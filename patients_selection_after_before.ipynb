{
 "cells": [
  {
   "cell_type": "code",
   "execution_count": 9,
   "metadata": {},
   "outputs": [],
   "source": [
    "import numpy as np\n",
    "import pandas as pd"
   ]
  },
  {
   "cell_type": "code",
   "execution_count": 10,
   "metadata": {},
   "outputs": [
    {
     "name": "stdout",
     "output_type": "stream",
     "text": [
      "/Users/marinacamachosanz/Desktop/tfg_BCN-AIM/cvd\n"
     ]
    }
   ],
   "source": [
    "cd /Users/marinacamachosanz/Desktop/tfg_BCN-AIM/cvd"
   ]
  },
  {
   "cell_type": "code",
   "execution_count": null,
   "metadata": {},
   "outputs": [],
   "source": [
    "#I MODIFY AND RUN THIS DOCUMENT CHANGING THE FILE NAMES AND CODES DEPENDING OF WHAT DISEASE\n",
    "#I WANT TO ANALYSE. RIGHT KNOW IT'S WITH DEPRESSION. \n",
    "#TO OBTAIN THE DEMENTIA INDIVIDUALS I FOLLOWED THIS ."
   ]
  },
  {
   "cell_type": "code",
   "execution_count": 14,
   "metadata": {},
   "outputs": [],
   "source": [
    "# File containing all types of codes:\n",
    "d_dates = pd.read_csv('DEPRE_41280_ICD10.tab',delimiter=',')\n",
    "# File containing all types of dementia diagnosis date:\n",
    "d_codes = pd.read_csv('DEPRE_41270_ICD10.tab',delimiter=',')"
   ]
  },
  {
   "cell_type": "code",
   "execution_count": 15,
   "metadata": {},
   "outputs": [
    {
     "data": {
      "text/plain": [
       "((18765, 215), (18765, 215))"
      ]
     },
     "execution_count": 15,
     "metadata": {},
     "output_type": "execute_result"
    }
   ],
   "source": [
    "d_dates.shape, d_codes.shape"
   ]
  },
  {
   "cell_type": "code",
   "execution_count": 16,
   "metadata": {},
   "outputs": [],
   "source": [
    "del d_dates['Unnamed: 0']\n",
    "del d_codes['Unnamed: 0']"
   ]
  },
  {
   "cell_type": "code",
   "execution_count": 17,
   "metadata": {},
   "outputs": [],
   "source": [
    "d_dates = d_dates.sort_values(['f.eid'], axis=0,ascending=[True])\n",
    "d_dates = d_dates.reset_index()\n",
    "del d_dates['index']"
   ]
  },
  {
   "cell_type": "code",
   "execution_count": 18,
   "metadata": {},
   "outputs": [],
   "source": [
    "d_codes = d_codes.sort_values(['f.eid'], axis=0,ascending=[True])\n",
    "d_codes = d_codes.reset_index()\n",
    "del d_codes['index']"
   ]
  },
  {
   "cell_type": "code",
   "execution_count": 19,
   "metadata": {},
   "outputs": [],
   "source": [
    "# List of our target ICD-10 codes: \n",
    "list_codes = ['F32','F320','F321','F322','F323','F328','F329']"
   ]
  },
  {
   "cell_type": "code",
   "execution_count": 20,
   "metadata": {},
   "outputs": [],
   "source": [
    "# We create a dictionary that will store all those records that have been done after baseline assesment. \n",
    "# Hence, those that have no issue to be used for risk prediction.\n",
    "eid_code_date_after = {\"eid\":[], \"code\":[], \"date\":[]}"
   ]
  },
  {
   "cell_type": "code",
   "execution_count": 21,
   "metadata": {},
   "outputs": [],
   "source": [
    "# We create a dictionary that will store all those records that have been done before baseline assesment. \n",
    "eid_code_date_before = {\"eid\":[], \"code\":[], \"date\":[]}"
   ]
  },
  {
   "cell_type": "code",
   "execution_count": null,
   "metadata": {},
   "outputs": [],
   "source": [
    "# Traverse the matrix \n",
    "for i in range(0, len(d_codes.index)):\n",
    "    for j in range(0, len(d_codes.columns)):\n",
    "        # Where it finds a target diagnosis stops to store the date\n",
    "        if (str(d_codes.values[i,j]) in list_codes):\n",
    "            # Create a dictionary with for each diagnosis of each patient and its date that can be used for risk prediction\n",
    "            if int(str(d_dates.values[i,j])[0:4])>=2011:\n",
    "                eid_code_date_after.setdefault(\"eid\", []).append(d_codes.values[i,0])\n",
    "                eid_code_date_after.setdefault(\"code\", []).append(d_codes.values[i,j])\n",
    "                eid_code_date_after.setdefault(\"date\", []).append(d_dates.values[i,j])\n",
    "            # Create a dictionary with for each diagnosis of each patient and its date that can't be used for risk prediction\n",
    "            else:\n",
    "                eid_code_date_before.setdefault(\"eid\", []).append(d_codes.values[i,0])\n",
    "                eid_code_date_before.setdefault(\"code\", []).append(d_codes.values[i,j])\n",
    "                eid_code_date_before.setdefault(\"date\", []).append(d_dates.values[i,j])\n",
    "        elif str(d_codes.values[i,j]) == \"nan\": break"
   ]
  },
  {
   "cell_type": "code",
   "execution_count": null,
   "metadata": {},
   "outputs": [],
   "source": [
    "eid_code_date_after = pd.DataFrame(eid_code_date_after)\n",
    "eid_code_date_before = pd.DataFrame(eid_code_date_before)"
   ]
  },
  {
   "cell_type": "code",
   "execution_count": null,
   "metadata": {},
   "outputs": [],
   "source": [
    "eid_code_date_after.to_csv(r'DEPRE_eid_code_date_after_2011_2.csv', index = False, header=True)\n",
    "eid_code_date_before.to_csv(r'DEPRE_eid_code_date_before_2011_2.csv', index = False, header=True)"
   ]
  },
  {
   "cell_type": "code",
   "execution_count": null,
   "metadata": {},
   "outputs": [],
   "source": []
  },
  {
   "cell_type": "code",
   "execution_count": null,
   "metadata": {},
   "outputs": [],
   "source": []
  },
  {
   "cell_type": "code",
   "execution_count": null,
   "metadata": {},
   "outputs": [],
   "source": []
  },
  {
   "cell_type": "code",
   "execution_count": null,
   "metadata": {},
   "outputs": [],
   "source": []
  },
  {
   "cell_type": "code",
   "execution_count": null,
   "metadata": {},
   "outputs": [],
   "source": []
  },
  {
   "cell_type": "code",
   "execution_count": null,
   "metadata": {},
   "outputs": [],
   "source": []
  },
  {
   "cell_type": "code",
   "execution_count": null,
   "metadata": {},
   "outputs": [],
   "source": []
  }
 ],
 "metadata": {
  "kernelspec": {
   "display_name": "Python 3 (ipykernel)",
   "language": "python",
   "name": "python3"
  },
  "language_info": {
   "codemirror_mode": {
    "name": "ipython",
    "version": 3
   },
   "file_extension": ".py",
   "mimetype": "text/x-python",
   "name": "python",
   "nbconvert_exporter": "python",
   "pygments_lexer": "ipython3",
   "version": "3.9.7"
  }
 },
 "nbformat": 4,
 "nbformat_minor": 2
}
