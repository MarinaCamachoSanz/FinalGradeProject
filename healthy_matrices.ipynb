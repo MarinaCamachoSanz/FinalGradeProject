{
 "cells": [
  {
   "cell_type": "code",
   "execution_count": null,
   "metadata": {},
   "outputs": [],
   "source": []
  },
  {
   "cell_type": "code",
   "execution_count": 1,
   "metadata": {},
   "outputs": [],
   "source": [
    "import numpy as np\n",
    "import pandas as pd\n",
    "import matplotlib.pyplot as plt\n",
    "import seaborn as sns"
   ]
  },
  {
   "cell_type": "code",
   "execution_count": 2,
   "metadata": {},
   "outputs": [
    {
     "name": "stdout",
     "output_type": "stream",
     "text": [
      "/Users/marinacamachosanz/Desktop/tfg_BCN-AIM/all_fields\n"
     ]
    }
   ],
   "source": [
    "cd /Users/marinacamachosanz/Desktop/tfg_BCN-AIM/all_fields/"
   ]
  },
  {
   "cell_type": "code",
   "execution_count": 3,
   "metadata": {},
   "outputs": [],
   "source": [
    "healthy_nan = pd.read_csv(\"x_nan_healthy.csv\")"
   ]
  },
  {
   "cell_type": "code",
   "execution_count": 4,
   "metadata": {},
   "outputs": [],
   "source": [
    "healthy_eids = pd.DataFrame(healthy_nan['f.eid'])"
   ]
  },
  {
   "cell_type": "code",
   "execution_count": 5,
   "metadata": {},
   "outputs": [],
   "source": [
    "healthy = healthy_nan.dropna(thresh=int(round(healthy_nan.shape[1]*80/100)))"
   ]
  },
  {
   "cell_type": "code",
   "execution_count": 6,
   "metadata": {},
   "outputs": [
    {
     "data": {
      "text/html": [
       "<div>\n",
       "<style scoped>\n",
       "    .dataframe tbody tr th:only-of-type {\n",
       "        vertical-align: middle;\n",
       "    }\n",
       "\n",
       "    .dataframe tbody tr th {\n",
       "        vertical-align: top;\n",
       "    }\n",
       "\n",
       "    .dataframe thead th {\n",
       "        text-align: right;\n",
       "    }\n",
       "</style>\n",
       "<table border=\"1\" class=\"dataframe\">\n",
       "  <thead>\n",
       "    <tr style=\"text-align: right;\">\n",
       "      <th></th>\n",
       "      <th>f.eid</th>\n",
       "      <th>waistcircum</th>\n",
       "      <th>hipcircum</th>\n",
       "      <th>standingheight</th>\n",
       "      <th>bmi</th>\n",
       "      <th>weight</th>\n",
       "      <th>bodyfatpercent</th>\n",
       "      <th>wholebodyfatfreemass</th>\n",
       "      <th>wholebodywatermass</th>\n",
       "      <th>basalmetabolicrate</th>\n",
       "      <th>...</th>\n",
       "      <th>happiness</th>\n",
       "      <th>everdepressed</th>\n",
       "      <th>perioddepress</th>\n",
       "      <th>numberdepressper</th>\n",
       "      <th>everdesinteresedweek</th>\n",
       "      <th>freqtiredness2weeks</th>\n",
       "      <th>freqtensenness2weeks</th>\n",
       "      <th>frequnenthusiasm2weeks</th>\n",
       "      <th>neuroticismscore</th>\n",
       "      <th>bipolarstatus</th>\n",
       "    </tr>\n",
       "  </thead>\n",
       "  <tbody>\n",
       "    <tr>\n",
       "      <td>3</td>\n",
       "      <td>1000287</td>\n",
       "      <td>82.0</td>\n",
       "      <td>101.0</td>\n",
       "      <td>175.0</td>\n",
       "      <td>23.9347</td>\n",
       "      <td>73.3</td>\n",
       "      <td>20.1</td>\n",
       "      <td>NaN</td>\n",
       "      <td>42.9</td>\n",
       "      <td>7054.0</td>\n",
       "      <td>...</td>\n",
       "      <td>NaN</td>\n",
       "      <td>NaN</td>\n",
       "      <td>NaN</td>\n",
       "      <td>NaN</td>\n",
       "      <td>NaN</td>\n",
       "      <td>1.0</td>\n",
       "      <td>1.0</td>\n",
       "      <td>1.0</td>\n",
       "      <td>1956.0</td>\n",
       "      <td>NaN</td>\n",
       "    </tr>\n",
       "    <tr>\n",
       "      <td>4</td>\n",
       "      <td>1000429</td>\n",
       "      <td>85.0</td>\n",
       "      <td>100.0</td>\n",
       "      <td>163.0</td>\n",
       "      <td>25.2550</td>\n",
       "      <td>67.1</td>\n",
       "      <td>34.5</td>\n",
       "      <td>NaN</td>\n",
       "      <td>32.2</td>\n",
       "      <td>5494.0</td>\n",
       "      <td>...</td>\n",
       "      <td>NaN</td>\n",
       "      <td>NaN</td>\n",
       "      <td>NaN</td>\n",
       "      <td>NaN</td>\n",
       "      <td>NaN</td>\n",
       "      <td>2.0</td>\n",
       "      <td>1.0</td>\n",
       "      <td>1.0</td>\n",
       "      <td>1942.0</td>\n",
       "      <td>NaN</td>\n",
       "    </tr>\n",
       "    <tr>\n",
       "      <td>6</td>\n",
       "      <td>1000500</td>\n",
       "      <td>77.0</td>\n",
       "      <td>91.0</td>\n",
       "      <td>164.0</td>\n",
       "      <td>23.4607</td>\n",
       "      <td>63.1</td>\n",
       "      <td>32.8</td>\n",
       "      <td>NaN</td>\n",
       "      <td>31.0</td>\n",
       "      <td>5301.0</td>\n",
       "      <td>...</td>\n",
       "      <td>NaN</td>\n",
       "      <td>NaN</td>\n",
       "      <td>NaN</td>\n",
       "      <td>NaN</td>\n",
       "      <td>NaN</td>\n",
       "      <td>1.0</td>\n",
       "      <td>1.0</td>\n",
       "      <td>1.0</td>\n",
       "      <td>1948.0</td>\n",
       "      <td>NaN</td>\n",
       "    </tr>\n",
       "    <tr>\n",
       "      <td>7</td>\n",
       "      <td>1000511</td>\n",
       "      <td>80.0</td>\n",
       "      <td>104.0</td>\n",
       "      <td>163.0</td>\n",
       "      <td>29.1317</td>\n",
       "      <td>77.4</td>\n",
       "      <td>41.9</td>\n",
       "      <td>NaN</td>\n",
       "      <td>32.9</td>\n",
       "      <td>5803.0</td>\n",
       "      <td>...</td>\n",
       "      <td>3.0</td>\n",
       "      <td>1.0</td>\n",
       "      <td>12.0</td>\n",
       "      <td>6.0</td>\n",
       "      <td>1.0</td>\n",
       "      <td>2.0</td>\n",
       "      <td>1.0</td>\n",
       "      <td>2.0</td>\n",
       "      <td>1960.0</td>\n",
       "      <td>3.0</td>\n",
       "    </tr>\n",
       "    <tr>\n",
       "      <td>8</td>\n",
       "      <td>1000565</td>\n",
       "      <td>95.0</td>\n",
       "      <td>113.0</td>\n",
       "      <td>170.0</td>\n",
       "      <td>30.4498</td>\n",
       "      <td>88.0</td>\n",
       "      <td>44.8</td>\n",
       "      <td>NaN</td>\n",
       "      <td>35.6</td>\n",
       "      <td>6284.0</td>\n",
       "      <td>...</td>\n",
       "      <td>3.0</td>\n",
       "      <td>1.0</td>\n",
       "      <td>12.0</td>\n",
       "      <td>1.0</td>\n",
       "      <td>NaN</td>\n",
       "      <td>1.0</td>\n",
       "      <td>1.0</td>\n",
       "      <td>1.0</td>\n",
       "      <td>1955.0</td>\n",
       "      <td>5.0</td>\n",
       "    </tr>\n",
       "    <tr>\n",
       "      <td>...</td>\n",
       "      <td>...</td>\n",
       "      <td>...</td>\n",
       "      <td>...</td>\n",
       "      <td>...</td>\n",
       "      <td>...</td>\n",
       "      <td>...</td>\n",
       "      <td>...</td>\n",
       "      <td>...</td>\n",
       "      <td>...</td>\n",
       "      <td>...</td>\n",
       "      <td>...</td>\n",
       "      <td>...</td>\n",
       "      <td>...</td>\n",
       "      <td>...</td>\n",
       "      <td>...</td>\n",
       "      <td>...</td>\n",
       "      <td>...</td>\n",
       "      <td>...</td>\n",
       "      <td>...</td>\n",
       "      <td>...</td>\n",
       "      <td>...</td>\n",
       "    </tr>\n",
       "    <tr>\n",
       "      <td>25139</td>\n",
       "      <td>2384604</td>\n",
       "      <td>99.0</td>\n",
       "      <td>106.0</td>\n",
       "      <td>188.0</td>\n",
       "      <td>27.1333</td>\n",
       "      <td>95.9</td>\n",
       "      <td>41.5</td>\n",
       "      <td>NaN</td>\n",
       "      <td>54.0</td>\n",
       "      <td>9075.0</td>\n",
       "      <td>...</td>\n",
       "      <td>NaN</td>\n",
       "      <td>NaN</td>\n",
       "      <td>NaN</td>\n",
       "      <td>NaN</td>\n",
       "      <td>NaN</td>\n",
       "      <td>1.0</td>\n",
       "      <td>1.0</td>\n",
       "      <td>1.0</td>\n",
       "      <td>1966.0</td>\n",
       "      <td>NaN</td>\n",
       "    </tr>\n",
       "    <tr>\n",
       "      <td>25140</td>\n",
       "      <td>2384610</td>\n",
       "      <td>86.0</td>\n",
       "      <td>100.0</td>\n",
       "      <td>186.0</td>\n",
       "      <td>22.1413</td>\n",
       "      <td>76.6</td>\n",
       "      <td>28.5</td>\n",
       "      <td>NaN</td>\n",
       "      <td>47.4</td>\n",
       "      <td>7782.0</td>\n",
       "      <td>...</td>\n",
       "      <td>NaN</td>\n",
       "      <td>NaN</td>\n",
       "      <td>NaN</td>\n",
       "      <td>NaN</td>\n",
       "      <td>NaN</td>\n",
       "      <td>1.0</td>\n",
       "      <td>1.0</td>\n",
       "      <td>1.0</td>\n",
       "      <td>1965.0</td>\n",
       "      <td>NaN</td>\n",
       "    </tr>\n",
       "    <tr>\n",
       "      <td>25141</td>\n",
       "      <td>2384673</td>\n",
       "      <td>75.0</td>\n",
       "      <td>104.0</td>\n",
       "      <td>179.0</td>\n",
       "      <td>21.3789</td>\n",
       "      <td>68.5</td>\n",
       "      <td>43.6</td>\n",
       "      <td>NaN</td>\n",
       "      <td>32.4</td>\n",
       "      <td>5615.0</td>\n",
       "      <td>...</td>\n",
       "      <td>NaN</td>\n",
       "      <td>NaN</td>\n",
       "      <td>NaN</td>\n",
       "      <td>NaN</td>\n",
       "      <td>NaN</td>\n",
       "      <td>1.0</td>\n",
       "      <td>1.0</td>\n",
       "      <td>1.0</td>\n",
       "      <td>1962.0</td>\n",
       "      <td>NaN</td>\n",
       "    </tr>\n",
       "    <tr>\n",
       "      <td>25145</td>\n",
       "      <td>2384999</td>\n",
       "      <td>80.0</td>\n",
       "      <td>94.0</td>\n",
       "      <td>153.0</td>\n",
       "      <td>25.3749</td>\n",
       "      <td>59.4</td>\n",
       "      <td>18.7</td>\n",
       "      <td>NaN</td>\n",
       "      <td>28.5</td>\n",
       "      <td>4933.0</td>\n",
       "      <td>...</td>\n",
       "      <td>3.0</td>\n",
       "      <td>0.0</td>\n",
       "      <td>NaN</td>\n",
       "      <td>NaN</td>\n",
       "      <td>0.0</td>\n",
       "      <td>1.0</td>\n",
       "      <td>1.0</td>\n",
       "      <td>1.0</td>\n",
       "      <td>1952.0</td>\n",
       "      <td>0.0</td>\n",
       "    </tr>\n",
       "    <tr>\n",
       "      <td>25151</td>\n",
       "      <td>2385277</td>\n",
       "      <td>79.0</td>\n",
       "      <td>96.0</td>\n",
       "      <td>166.0</td>\n",
       "      <td>23.4069</td>\n",
       "      <td>64.5</td>\n",
       "      <td>9.4</td>\n",
       "      <td>NaN</td>\n",
       "      <td>30.8</td>\n",
       "      <td>5314.0</td>\n",
       "      <td>...</td>\n",
       "      <td>NaN</td>\n",
       "      <td>NaN</td>\n",
       "      <td>NaN</td>\n",
       "      <td>NaN</td>\n",
       "      <td>NaN</td>\n",
       "      <td>2.0</td>\n",
       "      <td>1.0</td>\n",
       "      <td>1.0</td>\n",
       "      <td>1953.0</td>\n",
       "      <td>NaN</td>\n",
       "    </tr>\n",
       "  </tbody>\n",
       "</table>\n",
       "<p>8891 rows × 129 columns</p>\n",
       "</div>"
      ],
      "text/plain": [
       "         f.eid  waistcircum  hipcircum  standingheight      bmi  weight  \\\n",
       "3      1000287         82.0      101.0           175.0  23.9347    73.3   \n",
       "4      1000429         85.0      100.0           163.0  25.2550    67.1   \n",
       "6      1000500         77.0       91.0           164.0  23.4607    63.1   \n",
       "7      1000511         80.0      104.0           163.0  29.1317    77.4   \n",
       "8      1000565         95.0      113.0           170.0  30.4498    88.0   \n",
       "...        ...          ...        ...             ...      ...     ...   \n",
       "25139  2384604         99.0      106.0           188.0  27.1333    95.9   \n",
       "25140  2384610         86.0      100.0           186.0  22.1413    76.6   \n",
       "25141  2384673         75.0      104.0           179.0  21.3789    68.5   \n",
       "25145  2384999         80.0       94.0           153.0  25.3749    59.4   \n",
       "25151  2385277         79.0       96.0           166.0  23.4069    64.5   \n",
       "\n",
       "       bodyfatpercent  wholebodyfatfreemass  wholebodywatermass  \\\n",
       "3                20.1                   NaN                42.9   \n",
       "4                34.5                   NaN                32.2   \n",
       "6                32.8                   NaN                31.0   \n",
       "7                41.9                   NaN                32.9   \n",
       "8                44.8                   NaN                35.6   \n",
       "...               ...                   ...                 ...   \n",
       "25139            41.5                   NaN                54.0   \n",
       "25140            28.5                   NaN                47.4   \n",
       "25141            43.6                   NaN                32.4   \n",
       "25145            18.7                   NaN                28.5   \n",
       "25151             9.4                   NaN                30.8   \n",
       "\n",
       "       basalmetabolicrate  ...  happiness  everdepressed  perioddepress  \\\n",
       "3                  7054.0  ...        NaN            NaN            NaN   \n",
       "4                  5494.0  ...        NaN            NaN            NaN   \n",
       "6                  5301.0  ...        NaN            NaN            NaN   \n",
       "7                  5803.0  ...        3.0            1.0           12.0   \n",
       "8                  6284.0  ...        3.0            1.0           12.0   \n",
       "...                   ...  ...        ...            ...            ...   \n",
       "25139              9075.0  ...        NaN            NaN            NaN   \n",
       "25140              7782.0  ...        NaN            NaN            NaN   \n",
       "25141              5615.0  ...        NaN            NaN            NaN   \n",
       "25145              4933.0  ...        3.0            0.0            NaN   \n",
       "25151              5314.0  ...        NaN            NaN            NaN   \n",
       "\n",
       "       numberdepressper  everdesinteresedweek  freqtiredness2weeks  \\\n",
       "3                   NaN                   NaN                  1.0   \n",
       "4                   NaN                   NaN                  2.0   \n",
       "6                   NaN                   NaN                  1.0   \n",
       "7                   6.0                   1.0                  2.0   \n",
       "8                   1.0                   NaN                  1.0   \n",
       "...                 ...                   ...                  ...   \n",
       "25139               NaN                   NaN                  1.0   \n",
       "25140               NaN                   NaN                  1.0   \n",
       "25141               NaN                   NaN                  1.0   \n",
       "25145               NaN                   0.0                  1.0   \n",
       "25151               NaN                   NaN                  2.0   \n",
       "\n",
       "       freqtensenness2weeks  frequnenthusiasm2weeks  neuroticismscore  \\\n",
       "3                       1.0                     1.0            1956.0   \n",
       "4                       1.0                     1.0            1942.0   \n",
       "6                       1.0                     1.0            1948.0   \n",
       "7                       1.0                     2.0            1960.0   \n",
       "8                       1.0                     1.0            1955.0   \n",
       "...                     ...                     ...               ...   \n",
       "25139                   1.0                     1.0            1966.0   \n",
       "25140                   1.0                     1.0            1965.0   \n",
       "25141                   1.0                     1.0            1962.0   \n",
       "25145                   1.0                     1.0            1952.0   \n",
       "25151                   1.0                     1.0            1953.0   \n",
       "\n",
       "       bipolarstatus  \n",
       "3                NaN  \n",
       "4                NaN  \n",
       "6                NaN  \n",
       "7                3.0  \n",
       "8                5.0  \n",
       "...              ...  \n",
       "25139            NaN  \n",
       "25140            NaN  \n",
       "25141            NaN  \n",
       "25145            0.0  \n",
       "25151            NaN  \n",
       "\n",
       "[8891 rows x 129 columns]"
      ]
     },
     "execution_count": 6,
     "metadata": {},
     "output_type": "execute_result"
    }
   ],
   "source": [
    "healthy"
   ]
  },
  {
   "cell_type": "code",
   "execution_count": 8,
   "metadata": {},
   "outputs": [],
   "source": [
    "#healthy_eids_80.to_csv(r'healthy_eids_80.csv', index = False, header=True)"
   ]
  },
  {
   "cell_type": "code",
   "execution_count": null,
   "metadata": {},
   "outputs": [],
   "source": []
  },
  {
   "cell_type": "code",
   "execution_count": 9,
   "metadata": {},
   "outputs": [],
   "source": [
    "sex = pd.read_csv(\"f.healthy_31_80.tab\", delimiter=\"\\t\")\n",
    "center = pd.read_csv(\"f.healthy_54_80.tab\", delimiter=\"\\t\")"
   ]
  },
  {
   "cell_type": "code",
   "execution_count": 10,
   "metadata": {},
   "outputs": [],
   "source": [
    "healthy = healthy.sort_values(['f.eid'], axis=0,ascending=[True])\n",
    "healthy = healthy.reset_index()\n",
    "del healthy[\"index\"]\n",
    "\n",
    "sex = sex.sort_values(['f.eid'], axis=0,ascending=[True])\n",
    "sex = sex.reset_index()\n",
    "del sex[\"index\"]\n",
    "\n",
    "center = center.sort_values(['f.eid'], axis=0,ascending=[True])\n",
    "center = center.reset_index()\n",
    "del center[\"index\"]"
   ]
  },
  {
   "cell_type": "code",
   "execution_count": 11,
   "metadata": {},
   "outputs": [],
   "source": [
    "sex['f.31.0.0'] = sex['f.31.0.0'].astype(str)"
   ]
  },
  {
   "cell_type": "code",
   "execution_count": 12,
   "metadata": {},
   "outputs": [],
   "source": [
    "center['f.54.0.0']=center['f.54.0.0'].replace([10003.0,11001.0,11002.0,11003.0,11004.0,11005.0,11006.0,11007.0,11008.0,11009.0,11010.0,11011.0,11012.0,11013.0,11014.0,11016.0,11017.0,11018.0,11020.0,11021.0,11022.0,11023.0], ['stockport','manchester','oxford','cardif','glasgow','edimburgh','stoke','reading','buty','newcastle','leeds','bristol','barts','nottingham','sheffield','liverpool','middlesborough','hounslow','croydon','birmingham','swansea','wrexham'])"
   ]
  },
  {
   "cell_type": "code",
   "execution_count": 13,
   "metadata": {},
   "outputs": [],
   "source": [
    "healthy['sex'] = sex['f.31.0.0']\n",
    "healthy['center'] = center['f.54.0.0']"
   ]
  },
  {
   "cell_type": "code",
   "execution_count": 14,
   "metadata": {},
   "outputs": [],
   "source": [
    "healthy_in = healthy[healthy[\"center\"].str.contains('oxford|barts|edimburg')==False]"
   ]
  },
  {
   "cell_type": "code",
   "execution_count": 15,
   "metadata": {},
   "outputs": [],
   "source": [
    "healthy_ev = healthy[healthy[\"center\"].str.contains('oxford|barts|edimburg')==True]"
   ]
  },
  {
   "cell_type": "code",
   "execution_count": 16,
   "metadata": {},
   "outputs": [],
   "source": [
    "healthy_in_0 = healthy_in[healthy_in['sex'].str.contains('0')==True]"
   ]
  },
  {
   "cell_type": "code",
   "execution_count": 17,
   "metadata": {},
   "outputs": [],
   "source": [
    "healthy_in_1 = healthy_in[healthy_in[\"sex\"].str.contains('0')==False]"
   ]
  },
  {
   "cell_type": "code",
   "execution_count": 18,
   "metadata": {},
   "outputs": [],
   "source": [
    "healthy_ev_0 = healthy_ev[healthy_ev[\"sex\"].str.contains('0')==True]"
   ]
  },
  {
   "cell_type": "code",
   "execution_count": 19,
   "metadata": {},
   "outputs": [],
   "source": [
    "healthy_ev_1 = healthy_ev[healthy_ev[\"sex\"].str.contains('0')==False]"
   ]
  },
  {
   "cell_type": "code",
   "execution_count": null,
   "metadata": {},
   "outputs": [],
   "source": []
  },
  {
   "cell_type": "code",
   "execution_count": 20,
   "metadata": {},
   "outputs": [],
   "source": [
    "healthy_in_0 = healthy_in_0.sort_values(['age'], axis=0,ascending=[True])\n",
    "healthy_in_0 = healthy_in_0.reset_index()\n",
    "del healthy_in_0[\"index\"]"
   ]
  },
  {
   "cell_type": "code",
   "execution_count": 21,
   "metadata": {},
   "outputs": [],
   "source": [
    "healthy_in_1 = healthy_in_1.sort_values(['age'], axis=0,ascending=[True])\n",
    "healthy_in_1 = healthy_in_1.reset_index()\n",
    "del healthy_in_1[\"index\"]"
   ]
  },
  {
   "cell_type": "code",
   "execution_count": 22,
   "metadata": {},
   "outputs": [],
   "source": [
    "healthy_ev_0 = healthy_ev_0.sort_values(['age'], axis=0,ascending=[True])\n",
    "healthy_ev_0 = healthy_ev_0.reset_index()\n",
    "del healthy_ev_0[\"index\"]"
   ]
  },
  {
   "cell_type": "code",
   "execution_count": 23,
   "metadata": {},
   "outputs": [],
   "source": [
    "healthy_ev_1 = healthy_ev_1.sort_values(['age'], axis=0,ascending=[True])\n",
    "healthy_ev_1 = healthy_ev_1.reset_index()\n",
    "del healthy_ev_1[\"index\"]"
   ]
  },
  {
   "cell_type": "code",
   "execution_count": null,
   "metadata": {},
   "outputs": [],
   "source": []
  },
  {
   "cell_type": "code",
   "execution_count": 24,
   "metadata": {},
   "outputs": [],
   "source": [
    "#Female==0 747"
   ]
  },
  {
   "cell_type": "code",
   "execution_count": 25,
   "metadata": {},
   "outputs": [
    {
     "data": {
      "text/plain": [
       "1944.1218206157964"
      ]
     },
     "execution_count": 25,
     "metadata": {},
     "output_type": "execute_result"
    }
   ],
   "source": [
    "healthy_in_0['age'].head(747).mean()"
   ]
  },
  {
   "cell_type": "code",
   "execution_count": 26,
   "metadata": {},
   "outputs": [],
   "source": [
    "healthy_in_0_f = healthy_in_0.head(747)"
   ]
  },
  {
   "cell_type": "code",
   "execution_count": 27,
   "metadata": {},
   "outputs": [],
   "source": [
    "#Male==1 623"
   ]
  },
  {
   "cell_type": "code",
   "execution_count": 28,
   "metadata": {},
   "outputs": [],
   "source": [
    "healthy_in_1 = healthy_in_1.iloc[55: , :]"
   ]
  },
  {
   "cell_type": "code",
   "execution_count": 29,
   "metadata": {},
   "outputs": [
    {
     "data": {
      "text/plain": [
       "1944.1444622792937"
      ]
     },
     "execution_count": 29,
     "metadata": {},
     "output_type": "execute_result"
    }
   ],
   "source": [
    "healthy_in_1['age'].head(623).mean()"
   ]
  },
  {
   "cell_type": "code",
   "execution_count": 30,
   "metadata": {},
   "outputs": [],
   "source": [
    "healthy_in_1_f = healthy_in_1.head(623)"
   ]
  },
  {
   "cell_type": "code",
   "execution_count": 31,
   "metadata": {},
   "outputs": [],
   "source": [
    "#Female==0 87"
   ]
  },
  {
   "cell_type": "code",
   "execution_count": 32,
   "metadata": {},
   "outputs": [],
   "source": [
    "healthy_ev_0 = healthy_ev_0.iloc[15: , :]"
   ]
  },
  {
   "cell_type": "code",
   "execution_count": 33,
   "metadata": {},
   "outputs": [
    {
     "data": {
      "text/plain": [
       "1944.4942528735633"
      ]
     },
     "execution_count": 33,
     "metadata": {},
     "output_type": "execute_result"
    }
   ],
   "source": [
    "healthy_ev_0['age'].head(87).mean()"
   ]
  },
  {
   "cell_type": "code",
   "execution_count": 34,
   "metadata": {},
   "outputs": [],
   "source": [
    "healthy_ev_0_f = healthy_ev_0.head(87)"
   ]
  },
  {
   "cell_type": "code",
   "execution_count": 36,
   "metadata": {},
   "outputs": [],
   "source": [
    "#Male==1 66"
   ]
  },
  {
   "cell_type": "code",
   "execution_count": 37,
   "metadata": {},
   "outputs": [],
   "source": [
    "healthy_ev_1 = healthy_ev_1.iloc[25: , :]"
   ]
  },
  {
   "cell_type": "code",
   "execution_count": 38,
   "metadata": {},
   "outputs": [
    {
     "data": {
      "text/plain": [
       "1944.8484848484848"
      ]
     },
     "execution_count": 38,
     "metadata": {},
     "output_type": "execute_result"
    }
   ],
   "source": [
    "healthy_ev_1['age'].head(66).mean()"
   ]
  },
  {
   "cell_type": "code",
   "execution_count": 39,
   "metadata": {},
   "outputs": [],
   "source": [
    "healthy_ev_1_f = healthy_ev_1.head(66)"
   ]
  },
  {
   "cell_type": "code",
   "execution_count": null,
   "metadata": {},
   "outputs": [],
   "source": []
  },
  {
   "cell_type": "code",
   "execution_count": 40,
   "metadata": {},
   "outputs": [],
   "source": [
    "healthy_ev_01 = pd.concat([healthy_ev_0_f,healthy_ev_1_f], axis = 0)"
   ]
  },
  {
   "cell_type": "code",
   "execution_count": 41,
   "metadata": {},
   "outputs": [],
   "source": [
    "healthy_in_01 = pd.concat([healthy_in_0_f,healthy_in_1_f], axis = 0)"
   ]
  },
  {
   "cell_type": "code",
   "execution_count": 42,
   "metadata": {},
   "outputs": [],
   "source": [
    "healthy_in_01.to_csv(r'healthy_in_01.csv', index = False, header=True)"
   ]
  },
  {
   "cell_type": "code",
   "execution_count": 43,
   "metadata": {},
   "outputs": [],
   "source": [
    "healthy_ev_01.to_csv(r'healthy_ev_01.csv', index = False, header=True)"
   ]
  },
  {
   "cell_type": "code",
   "execution_count": null,
   "metadata": {},
   "outputs": [],
   "source": []
  },
  {
   "cell_type": "code",
   "execution_count": null,
   "metadata": {},
   "outputs": [],
   "source": []
  },
  {
   "cell_type": "code",
   "execution_count": 44,
   "metadata": {},
   "outputs": [
    {
     "data": {
      "text/plain": [
       "1944.1321167883211"
      ]
     },
     "execution_count": 44,
     "metadata": {},
     "output_type": "execute_result"
    }
   ],
   "source": [
    "healthy_in_01['age'].mean()"
   ]
  },
  {
   "cell_type": "code",
   "execution_count": 47,
   "metadata": {},
   "outputs": [
    {
     "data": {
      "text/plain": [
       "1944.6470588235295"
      ]
     },
     "execution_count": 47,
     "metadata": {},
     "output_type": "execute_result"
    }
   ],
   "source": [
    "healthy_ev_01['age'].mean()"
   ]
  },
  {
   "cell_type": "code",
   "execution_count": null,
   "metadata": {},
   "outputs": [],
   "source": []
  },
  {
   "cell_type": "code",
   "execution_count": null,
   "metadata": {},
   "outputs": [],
   "source": []
  }
 ],
 "metadata": {
  "kernelspec": {
   "display_name": "Python 3 (ipykernel)",
   "language": "python",
   "name": "python3"
  },
  "language_info": {
   "codemirror_mode": {
    "name": "ipython",
    "version": 3
   },
   "file_extension": ".py",
   "mimetype": "text/x-python",
   "name": "python",
   "nbconvert_exporter": "python",
   "pygments_lexer": "ipython3",
   "version": "3.9.7"
  }
 },
 "nbformat": 4,
 "nbformat_minor": 2
}
