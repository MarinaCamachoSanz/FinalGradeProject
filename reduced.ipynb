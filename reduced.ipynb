{
 "cells": [
  {
   "cell_type": "code",
   "execution_count": 1,
   "metadata": {},
   "outputs": [
    {
     "name": "stdout",
     "output_type": "stream",
     "text": [
      "/Users/marinacamachosanz/Desktop/input_folder\n"
     ]
    }
   ],
   "source": [
    "cd /Users/marinacamachosanz/Desktop/input_folder"
   ]
  },
  {
   "cell_type": "code",
   "execution_count": 2,
   "metadata": {},
   "outputs": [],
   "source": [
    "import pandas as pd"
   ]
  },
  {
   "cell_type": "code",
   "execution_count": 3,
   "metadata": {},
   "outputs": [],
   "source": [
    "input_df_ct_80 = pd.read_csv('input_df_ct_80.csv') \n",
    "exval_df_ct_80 = pd.read_csv('exval_df_ct_80.csv')"
   ]
  },
  {
   "cell_type": "code",
   "execution_count": 8,
   "metadata": {},
   "outputs": [],
   "source": [
    "#reduced=['noeducation', 'frequnenthusiasm2weeks', 'freqtiredness2weeks', 'unabletowork', 'university', 'freqdepressed', 'coffetype', 'lengthmobileuse', 'employed', 'sex', 'dietarychange', 'seenpsychiatrist', 'nonoilyfish', 'A.AS', 'NVQ.HND.HNC', 'professional', 'oilyfishintake', 'breadtype', 'waistcircum', 'CSE', 'variationdiet', 'waterintake', 'porkintake', 'sleepduration', 'sleeplessness', 'O.GCSE', 'cheeseintake', 'facialageing', 'usesunprotection','standingheight','f.eid', 'Y']"
   ]
  },
  {
   "cell_type": "code",
   "execution_count": 9,
   "metadata": {},
   "outputs": [],
   "source": [
    "reduced=['noeducation', 'frequnenthusiasm2weeks', 'freqtiredness2weeks', 'unabletowork', 'university', 'freqdepressed', 'coffetype', 'lengthmobileuse', 'employed', 'sex', 'dietarychange', 'seenpsychiatrist', 'nonoilyfish', 'A.AS', 'NVQ.HND.HNC', 'professional', 'oilyfishintake', 'breadtype', 'waistcircum', 'CSE', 'variationdiet', 'waterintake', 'porkintake', 'sleepduration', 'sleeplessness', 'O.GCSE', 'cheeseintake', 'facialageing', 'usesunprotection','age','f.eid', 'Y']"
   ]
  },
  {
   "cell_type": "code",
   "execution_count": 10,
   "metadata": {},
   "outputs": [
    {
     "data": {
      "text/plain": [
       "32"
      ]
     },
     "execution_count": 10,
     "metadata": {},
     "output_type": "execute_result"
    }
   ],
   "source": [
    "len(reduced)"
   ]
  },
  {
   "cell_type": "code",
   "execution_count": 11,
   "metadata": {},
   "outputs": [],
   "source": [
    "for x in input_df_ct_80.columns:\n",
    "    if x not in reduced:\n",
    "        del input_df_ct_80[str(x)]\n",
    "        \n",
    "for x in exval_df_ct_80.columns:\n",
    "    if x not in reduced:\n",
    "        del exval_df_ct_80[str(x)]"
   ]
  },
  {
   "cell_type": "code",
   "execution_count": null,
   "metadata": {},
   "outputs": [],
   "source": []
  },
  {
   "cell_type": "code",
   "execution_count": 12,
   "metadata": {},
   "outputs": [],
   "source": [
    "input_df_ct_80.to_csv(r'input_df_ct_80_30_age.csv', index = False, header=True)\n",
    "exval_df_ct_80.to_csv(r'exval_df_ct_80_30_age.csv', index = False, header=True)"
   ]
  },
  {
   "cell_type": "code",
   "execution_count": null,
   "metadata": {},
   "outputs": [],
   "source": []
  }
 ],
 "metadata": {
  "kernelspec": {
   "display_name": "Python 3 (ipykernel)",
   "language": "python",
   "name": "python3"
  },
  "language_info": {
   "codemirror_mode": {
    "name": "ipython",
    "version": 3
   },
   "file_extension": ".py",
   "mimetype": "text/x-python",
   "name": "python",
   "nbconvert_exporter": "python",
   "pygments_lexer": "ipython3",
   "version": "3.9.7"
  }
 },
 "nbformat": 4,
 "nbformat_minor": 2
}
