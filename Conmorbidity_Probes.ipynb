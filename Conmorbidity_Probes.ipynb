{
 "cells": [
  {
   "cell_type": "code",
   "execution_count": 1,
   "id": "2367cf1a",
   "metadata": {},
   "outputs": [],
   "source": [
    "import numpy as np\n",
    "import pandas as pd"
   ]
  },
  {
   "cell_type": "code",
   "execution_count": 2,
   "id": "a692cf84",
   "metadata": {},
   "outputs": [],
   "source": [
    "data_full = pd.read_csv('input_df_ct_80.csv')  \n",
    "data_full_ev = pd.read_csv('exval_df_ct_80.csv')"
   ]
  },
  {
   "cell_type": "code",
   "execution_count": 3,
   "id": "a626449e",
   "metadata": {},
   "outputs": [
    {
     "data": {
      "text/plain": [
       "((2740, 79), (306, 79))"
      ]
     },
     "execution_count": 3,
     "metadata": {},
     "output_type": "execute_result"
    }
   ],
   "source": [
    "data_full.shape, data_full_ev.shape"
   ]
  },
  {
   "cell_type": "code",
   "execution_count": 4,
   "id": "87c64848",
   "metadata": {},
   "outputs": [],
   "source": [
    "data_full[\"Y\"]=data_full[\"Y\"].astype(str)\n",
    "data_full_dementia = data_full[data_full[\"Y\"].str.contains('1')==True]\n",
    "\n",
    "data_full_ev[\"Y\"]=data_full_ev[\"Y\"].astype(str)\n",
    "data_full_ev_dementia = data_full_ev[data_full_ev[\"Y\"].str.contains('1')==True]"
   ]
  },
  {
   "cell_type": "code",
   "execution_count": 5,
   "id": "22253655",
   "metadata": {},
   "outputs": [
    {
     "data": {
      "text/plain": [
       "((1370, 79), (153, 79))"
      ]
     },
     "execution_count": 5,
     "metadata": {},
     "output_type": "execute_result"
    }
   ],
   "source": [
    "data_full_dementia.shape, data_full_ev_dementia.shape"
   ]
  },
  {
   "cell_type": "code",
   "execution_count": 6,
   "id": "e2cc4d29",
   "metadata": {},
   "outputs": [],
   "source": [
    "data_full_dementia.to_csv(r'data_full_dementia.csv', index = False, header=True)\n",
    "data_full_ev_dementia.to_csv(r'data_full_dementia_ev.csv', index = False, header=True)"
   ]
  },
  {
   "cell_type": "code",
   "execution_count": 7,
   "id": "8eb80656",
   "metadata": {},
   "outputs": [
    {
     "name": "stderr",
     "output_type": "stream",
     "text": [
      "/var/folders/yf/w9tkbs3512s2h935hh0_xhpr0000gn/T/ipykernel_68588/3123148587.py:1: SettingWithCopyWarning: \n",
      "A value is trying to be set on a copy of a slice from a DataFrame.\n",
      "Try using .loc[row_indexer,col_indexer] = value instead\n",
      "\n",
      "See the caveats in the documentation: https://pandas.pydata.org/pandas-docs/stable/user_guide/indexing.html#returning-a-view-versus-a-copy\n",
      "  data_full_dementia[\"f.eid\"]=data_full_dementia[\"f.eid\"].astype(str)\n",
      "/var/folders/yf/w9tkbs3512s2h935hh0_xhpr0000gn/T/ipykernel_68588/3123148587.py:4: SettingWithCopyWarning: \n",
      "A value is trying to be set on a copy of a slice from a DataFrame.\n",
      "Try using .loc[row_indexer,col_indexer] = value instead\n",
      "\n",
      "See the caveats in the documentation: https://pandas.pydata.org/pandas-docs/stable/user_guide/indexing.html#returning-a-view-versus-a-copy\n",
      "  data_full_ev_dementia[\"f.eid\"]=data_full_ev_dementia[\"f.eid\"].astype(str)\n"
     ]
    }
   ],
   "source": [
    "data_full_dementia[\"f.eid\"]=data_full_dementia[\"f.eid\"].astype(str)\n",
    "DEMENTIA_eids = list(data_full_dementia[\"f.eid\"])\n",
    "\n",
    "data_full_ev_dementia[\"f.eid\"]=data_full_ev_dementia[\"f.eid\"].astype(str)\n",
    "DEMENTIA_eids_ev = list(data_full_ev_dementia[\"f.eid\"])"
   ]
  },
  {
   "cell_type": "code",
   "execution_count": 8,
   "id": "2c577cec",
   "metadata": {},
   "outputs": [],
   "source": [
    "with open(\"DEMENTIA.txt\", 'w') as file:\n",
    "        for row in DEMENTIA_eids:\n",
    "            s = \"\".join(map(str, row))\n",
    "            file.write(s+'\\n')\n",
    "with open(\"DEMENTIA_EV.txt\", 'w') as file:\n",
    "        for row in DEMENTIA_eids_ev:\n",
    "            s = \"\".join(map(str, row))\n",
    "            file.write(s+'\\n')"
   ]
  },
  {
   "cell_type": "code",
   "execution_count": 9,
   "id": "758fe20d",
   "metadata": {},
   "outputs": [
    {
     "name": "stdout",
     "output_type": "stream",
     "text": [
      "/Users/marinacamacho/Documents\n"
     ]
    }
   ],
   "source": [
    "cd /Users/marinacamacho/Documents/"
   ]
  },
  {
   "cell_type": "code",
   "execution_count": 10,
   "id": "c4e28fdf",
   "metadata": {},
   "outputs": [],
   "source": [
    "DEPRE_2011 = pd.read_csv('DEPRE_eid_code_date_after_2011.csv')  "
   ]
  },
  {
   "cell_type": "code",
   "execution_count": 11,
   "id": "c9f1f254",
   "metadata": {},
   "outputs": [],
   "source": [
    "DEPRE_2011[\"f.eid\"]=DEPRE_2011[\"eid\"].astype(str)\n",
    "DEPRE_eids = list(DEPRE_2011[\"f.eid\"])"
   ]
  },
  {
   "cell_type": "code",
   "execution_count": 12,
   "id": "ac35853e",
   "metadata": {},
   "outputs": [],
   "source": [
    "with open(\"DEPRE_2011.txt\", 'w') as file:\n",
    "        for row in DEPRE_eids:\n",
    "            s = \"\".join(map(str, row))\n",
    "            file.write(s+'\\n')"
   ]
  },
  {
   "cell_type": "code",
   "execution_count": 13,
   "id": "3cd51498",
   "metadata": {},
   "outputs": [
    {
     "data": {
      "text/plain": [
       "(1370, 12503, 153)"
      ]
     },
     "execution_count": 13,
     "metadata": {},
     "output_type": "execute_result"
    }
   ],
   "source": [
    "len(set(DEMENTIA_eids)), len(set(DEPRE_eids)), len(set(DEMENTIA_eids_ev))"
   ]
  },
  {
   "cell_type": "code",
   "execution_count": 14,
   "id": "0b1aae70",
   "metadata": {},
   "outputs": [],
   "source": [
    "DEMENTIA_DEPRE = set(DEMENTIA_eids)&set(DEPRE_eids)\n",
    "DEMENTIA_DEPRE_FINAL = sorted(DEMENTIA_DEPRE, key = lambda k : DEMENTIA_eids.index(k))\n",
    "\n",
    "DEMENTIA_DEPRE_EV = set(DEMENTIA_eids_ev)&set(DEPRE_eids)\n",
    "DEMENTIA_DEPRE_FINAL_EV = sorted(DEMENTIA_DEPRE_EV, key = lambda k : DEMENTIA_eids_ev.index(k))"
   ]
  },
  {
   "cell_type": "code",
   "execution_count": 15,
   "id": "28b0ecb1",
   "metadata": {},
   "outputs": [
    {
     "data": {
      "text/plain": [
       "(218, 18)"
      ]
     },
     "execution_count": 15,
     "metadata": {},
     "output_type": "execute_result"
    }
   ],
   "source": [
    "len(DEMENTIA_DEPRE_FINAL), len(DEMENTIA_DEPRE_FINAL_EV)"
   ]
  },
  {
   "cell_type": "code",
   "execution_count": 16,
   "id": "0f7eb375",
   "metadata": {},
   "outputs": [],
   "source": [
    "DvsDD = []\n",
    "for x in DEMENTIA_eids: \n",
    "    if x in DEMENTIA_DEPRE_FINAL: DvsDD.append(1)\n",
    "    else: DvsDD.append(0)\n",
    "        \n",
    "DvsDD_ev = []\n",
    "for x in DEMENTIA_eids_ev: \n",
    "    if x in DEMENTIA_DEPRE_FINAL_EV: DvsDD_ev.append(1)\n",
    "    else: DvsDD_ev.append(0)"
   ]
  },
  {
   "cell_type": "code",
   "execution_count": 17,
   "id": "281cef1b",
   "metadata": {},
   "outputs": [
    {
     "name": "stderr",
     "output_type": "stream",
     "text": [
      "/var/folders/yf/w9tkbs3512s2h935hh0_xhpr0000gn/T/ipykernel_68588/1531942419.py:2: SettingWithCopyWarning: \n",
      "A value is trying to be set on a copy of a slice from a DataFrame.\n",
      "Try using .loc[row_indexer,col_indexer] = value instead\n",
      "\n",
      "See the caveats in the documentation: https://pandas.pydata.org/pandas-docs/stable/user_guide/indexing.html#returning-a-view-versus-a-copy\n",
      "  data_full_dementia['Y'] = DvsDD\n",
      "/var/folders/yf/w9tkbs3512s2h935hh0_xhpr0000gn/T/ipykernel_68588/1531942419.py:5: SettingWithCopyWarning: \n",
      "A value is trying to be set on a copy of a slice from a DataFrame.\n",
      "Try using .loc[row_indexer,col_indexer] = value instead\n",
      "\n",
      "See the caveats in the documentation: https://pandas.pydata.org/pandas-docs/stable/user_guide/indexing.html#returning-a-view-versus-a-copy\n",
      "  data_full_ev_dementia['Y'] = DvsDD_ev\n"
     ]
    }
   ],
   "source": [
    "del data_full_dementia['Y']\n",
    "data_full_dementia['Y'] = DvsDD\n",
    "\n",
    "del data_full_ev_dementia['Y']\n",
    "data_full_ev_dementia['Y'] = DvsDD_ev"
   ]
  },
  {
   "cell_type": "code",
   "execution_count": 18,
   "id": "22d566b7",
   "metadata": {},
   "outputs": [],
   "source": [
    "data_full_dementia.to_csv(r'DvdDD_balanced_no.csv', index = False, header=True)\n",
    "data_full_ev_dementia.to_csv(r'DvdDD_balanced_no_ev.csv', index = False, header=True)"
   ]
  },
  {
   "cell_type": "code",
   "execution_count": 19,
   "id": "5617b48f",
   "metadata": {},
   "outputs": [
    {
     "data": {
      "text/plain": [
       "0    1152\n",
       "1     218\n",
       "Name: Y, dtype: int64"
      ]
     },
     "execution_count": 19,
     "metadata": {},
     "output_type": "execute_result"
    }
   ],
   "source": [
    "data_full_dementia['Y'].value_counts()"
   ]
  },
  {
   "cell_type": "code",
   "execution_count": 20,
   "id": "1cc3fa00",
   "metadata": {},
   "outputs": [
    {
     "data": {
      "text/plain": [
       "0    135\n",
       "1     18\n",
       "Name: Y, dtype: int64"
      ]
     },
     "execution_count": 20,
     "metadata": {},
     "output_type": "execute_result"
    }
   ],
   "source": [
    "data_full_ev_dementia['Y'].value_counts()"
   ]
  },
  {
   "cell_type": "code",
   "execution_count": 21,
   "id": "ab2ca48b",
   "metadata": {},
   "outputs": [
    {
     "name": "stderr",
     "output_type": "stream",
     "text": [
      "/var/folders/yf/w9tkbs3512s2h935hh0_xhpr0000gn/T/ipykernel_68588/187200236.py:1: SettingWithCopyWarning: \n",
      "A value is trying to be set on a copy of a slice from a DataFrame.\n",
      "Try using .loc[row_indexer,col_indexer] = value instead\n",
      "\n",
      "See the caveats in the documentation: https://pandas.pydata.org/pandas-docs/stable/user_guide/indexing.html#returning-a-view-versus-a-copy\n",
      "  data_full_dementia[\"Y\"]=data_full_dementia[\"Y\"].astype(str)\n",
      "/var/folders/yf/w9tkbs3512s2h935hh0_xhpr0000gn/T/ipykernel_68588/187200236.py:5: SettingWithCopyWarning: \n",
      "A value is trying to be set on a copy of a slice from a DataFrame.\n",
      "Try using .loc[row_indexer,col_indexer] = value instead\n",
      "\n",
      "See the caveats in the documentation: https://pandas.pydata.org/pandas-docs/stable/user_guide/indexing.html#returning-a-view-versus-a-copy\n",
      "  data_full_ev_dementia[\"Y\"]=data_full_ev_dementia[\"Y\"].astype(str)\n"
     ]
    }
   ],
   "source": [
    "data_full_dementia[\"Y\"]=data_full_dementia[\"Y\"].astype(str)\n",
    "data_full_dementia_DD = data_full_dementia[data_full_dementia[\"Y\"].str.contains('1')==True]\n",
    "data_full_dementia_D = data_full_dementia[data_full_dementia[\"Y\"].str.contains('0')==True]\n",
    "\n",
    "data_full_ev_dementia[\"Y\"]=data_full_ev_dementia[\"Y\"].astype(str)\n",
    "data_full_dementia_DD_ev = data_full_ev_dementia[data_full_ev_dementia[\"Y\"].str.contains('1')==True]\n",
    "data_full_dementia_D_ev = data_full_ev_dementia[data_full_ev_dementia[\"Y\"].str.contains('0')==True]"
   ]
  },
  {
   "cell_type": "code",
   "execution_count": 22,
   "id": "f60a135a",
   "metadata": {},
   "outputs": [
    {
     "data": {
      "text/plain": [
       "((1152, 79), (218, 79), (135, 79), (18, 79))"
      ]
     },
     "execution_count": 22,
     "metadata": {},
     "output_type": "execute_result"
    }
   ],
   "source": [
    "data_full_dementia_D.shape, data_full_dementia_DD.shape, data_full_dementia_D_ev.shape, data_full_dementia_DD_ev.shape"
   ]
  },
  {
   "cell_type": "code",
   "execution_count": 23,
   "id": "5edb3ad3",
   "metadata": {},
   "outputs": [],
   "source": [
    "import numpy as np # linear algebra\n",
    "from numpy import genfromtxt\n",
    "\n",
    "import pandas as pd # data processing, CSV file I/O (e.g. pd.read_csv)\n",
    "import seaborn as sns\n",
    "\n",
    "from sklearn.decomposition import PCA\n",
    "from imblearn.over_sampling import ADASYN"
   ]
  },
  {
   "cell_type": "code",
   "execution_count": 24,
   "id": "7f8abc71",
   "metadata": {},
   "outputs": [],
   "source": [
    "DvsDD_ADASYN = pd.concat([data_full_dementia_D, data_full_dementia_DD], axis=0)\n",
    "DvsDD_ADASYN_ev = pd.concat([data_full_dementia_D_ev, data_full_dementia_DD_ev], axis=0)"
   ]
  },
  {
   "cell_type": "code",
   "execution_count": 25,
   "id": "f127d53c",
   "metadata": {},
   "outputs": [],
   "source": [
    "del DvsDD_ADASYN['freqdepressed']\n",
    "del DvsDD_ADASYN['seendoctordepress']\n",
    "del DvsDD_ADASYN['seenpsychiatrist']\n",
    "\n",
    "del DvsDD_ADASYN_ev['freqdepressed']\n",
    "del DvsDD_ADASYN_ev['seendoctordepress']\n",
    "del DvsDD_ADASYN_ev['seenpsychiatrist']"
   ]
  },
  {
   "cell_type": "code",
   "execution_count": 26,
   "id": "113031b2",
   "metadata": {},
   "outputs": [
    {
     "data": {
      "text/html": [
       "<div>\n",
       "<style scoped>\n",
       "    .dataframe tbody tr th:only-of-type {\n",
       "        vertical-align: middle;\n",
       "    }\n",
       "\n",
       "    .dataframe tbody tr th {\n",
       "        vertical-align: top;\n",
       "    }\n",
       "\n",
       "    .dataframe thead th {\n",
       "        text-align: right;\n",
       "    }\n",
       "</style>\n",
       "<table border=\"1\" class=\"dataframe\">\n",
       "  <thead>\n",
       "    <tr style=\"text-align: right;\">\n",
       "      <th></th>\n",
       "      <th>waistcircum</th>\n",
       "      <th>hipcircum</th>\n",
       "      <th>standingheight</th>\n",
       "      <th>bmi</th>\n",
       "      <th>weight</th>\n",
       "      <th>bodyfatpercent</th>\n",
       "      <th>wholebodywatermass</th>\n",
       "      <th>basalmetabolicrate</th>\n",
       "      <th>age</th>\n",
       "      <th>townsendeprivation</th>\n",
       "      <th>...</th>\n",
       "      <th>partmultiplebirth</th>\n",
       "      <th>maternalsmoking</th>\n",
       "      <th>handedness</th>\n",
       "      <th>risktaking</th>\n",
       "      <th>freqtiredness2weeks</th>\n",
       "      <th>freqtensenness2weeks</th>\n",
       "      <th>frequnenthusiasm2weeks</th>\n",
       "      <th>sex</th>\n",
       "      <th>f.eid</th>\n",
       "      <th>Y</th>\n",
       "    </tr>\n",
       "  </thead>\n",
       "  <tbody>\n",
       "    <tr>\n",
       "      <th>153</th>\n",
       "      <td>85.0</td>\n",
       "      <td>100.0</td>\n",
       "      <td>187.0</td>\n",
       "      <td>20.2751</td>\n",
       "      <td>70.9</td>\n",
       "      <td>30.5</td>\n",
       "      <td>41.700</td>\n",
       "      <td>6795.00</td>\n",
       "      <td>1937</td>\n",
       "      <td>-3.67786</td>\n",
       "      <td>...</td>\n",
       "      <td>0.000000e+00</td>\n",
       "      <td>0.00</td>\n",
       "      <td>1.0</td>\n",
       "      <td>0.00</td>\n",
       "      <td>1.0</td>\n",
       "      <td>1.0</td>\n",
       "      <td>1.0</td>\n",
       "      <td>1</td>\n",
       "      <td>1034942</td>\n",
       "      <td>0</td>\n",
       "    </tr>\n",
       "    <tr>\n",
       "      <th>154</th>\n",
       "      <td>99.0</td>\n",
       "      <td>103.0</td>\n",
       "      <td>175.0</td>\n",
       "      <td>27.7551</td>\n",
       "      <td>85.0</td>\n",
       "      <td>32.4</td>\n",
       "      <td>44.687</td>\n",
       "      <td>7271.58</td>\n",
       "      <td>1940</td>\n",
       "      <td>-4.19052</td>\n",
       "      <td>...</td>\n",
       "      <td>-2.997602e-17</td>\n",
       "      <td>0.20</td>\n",
       "      <td>1.0</td>\n",
       "      <td>0.00</td>\n",
       "      <td>1.0</td>\n",
       "      <td>1.0</td>\n",
       "      <td>1.0</td>\n",
       "      <td>1</td>\n",
       "      <td>1038111</td>\n",
       "      <td>0</td>\n",
       "    </tr>\n",
       "    <tr>\n",
       "      <th>155</th>\n",
       "      <td>107.0</td>\n",
       "      <td>108.0</td>\n",
       "      <td>155.0</td>\n",
       "      <td>34.8387</td>\n",
       "      <td>83.7</td>\n",
       "      <td>29.5</td>\n",
       "      <td>31.400</td>\n",
       "      <td>5648.00</td>\n",
       "      <td>1944</td>\n",
       "      <td>6.65362</td>\n",
       "      <td>...</td>\n",
       "      <td>0.000000e+00</td>\n",
       "      <td>0.00</td>\n",
       "      <td>1.0</td>\n",
       "      <td>0.00</td>\n",
       "      <td>1.0</td>\n",
       "      <td>1.0</td>\n",
       "      <td>1.0</td>\n",
       "      <td>0</td>\n",
       "      <td>1081280</td>\n",
       "      <td>0</td>\n",
       "    </tr>\n",
       "    <tr>\n",
       "      <th>156</th>\n",
       "      <td>93.0</td>\n",
       "      <td>94.0</td>\n",
       "      <td>174.0</td>\n",
       "      <td>24.8712</td>\n",
       "      <td>75.3</td>\n",
       "      <td>38.9</td>\n",
       "      <td>41.400</td>\n",
       "      <td>6820.00</td>\n",
       "      <td>1941</td>\n",
       "      <td>2.06269</td>\n",
       "      <td>...</td>\n",
       "      <td>0.000000e+00</td>\n",
       "      <td>0.00</td>\n",
       "      <td>2.0</td>\n",
       "      <td>1.00</td>\n",
       "      <td>1.0</td>\n",
       "      <td>2.0</td>\n",
       "      <td>1.0</td>\n",
       "      <td>1</td>\n",
       "      <td>1126376</td>\n",
       "      <td>0</td>\n",
       "    </tr>\n",
       "    <tr>\n",
       "      <th>157</th>\n",
       "      <td>96.0</td>\n",
       "      <td>105.0</td>\n",
       "      <td>172.0</td>\n",
       "      <td>26.8050</td>\n",
       "      <td>79.3</td>\n",
       "      <td>29.5</td>\n",
       "      <td>44.800</td>\n",
       "      <td>7360.00</td>\n",
       "      <td>1938</td>\n",
       "      <td>-3.90914</td>\n",
       "      <td>...</td>\n",
       "      <td>0.000000e+00</td>\n",
       "      <td>0.00</td>\n",
       "      <td>1.0</td>\n",
       "      <td>0.00</td>\n",
       "      <td>1.0</td>\n",
       "      <td>1.0</td>\n",
       "      <td>1.0</td>\n",
       "      <td>1</td>\n",
       "      <td>1198779</td>\n",
       "      <td>0</td>\n",
       "    </tr>\n",
       "    <tr>\n",
       "      <th>...</th>\n",
       "      <td>...</td>\n",
       "      <td>...</td>\n",
       "      <td>...</td>\n",
       "      <td>...</td>\n",
       "      <td>...</td>\n",
       "      <td>...</td>\n",
       "      <td>...</td>\n",
       "      <td>...</td>\n",
       "      <td>...</td>\n",
       "      <td>...</td>\n",
       "      <td>...</td>\n",
       "      <td>...</td>\n",
       "      <td>...</td>\n",
       "      <td>...</td>\n",
       "      <td>...</td>\n",
       "      <td>...</td>\n",
       "      <td>...</td>\n",
       "      <td>...</td>\n",
       "      <td>...</td>\n",
       "      <td>...</td>\n",
       "      <td>...</td>\n",
       "    </tr>\n",
       "    <tr>\n",
       "      <th>246</th>\n",
       "      <td>90.0</td>\n",
       "      <td>98.0</td>\n",
       "      <td>171.0</td>\n",
       "      <td>24.5888</td>\n",
       "      <td>71.9</td>\n",
       "      <td>45.8</td>\n",
       "      <td>40.100</td>\n",
       "      <td>6590.00</td>\n",
       "      <td>1939</td>\n",
       "      <td>1.07205</td>\n",
       "      <td>...</td>\n",
       "      <td>0.000000e+00</td>\n",
       "      <td>0.00</td>\n",
       "      <td>1.0</td>\n",
       "      <td>1.00</td>\n",
       "      <td>2.0</td>\n",
       "      <td>2.0</td>\n",
       "      <td>1.0</td>\n",
       "      <td>1</td>\n",
       "      <td>3979757</td>\n",
       "      <td>1</td>\n",
       "    </tr>\n",
       "    <tr>\n",
       "      <th>255</th>\n",
       "      <td>87.0</td>\n",
       "      <td>91.0</td>\n",
       "      <td>154.7</td>\n",
       "      <td>20.8089</td>\n",
       "      <td>49.8</td>\n",
       "      <td>31.3</td>\n",
       "      <td>27.000</td>\n",
       "      <td>4586.00</td>\n",
       "      <td>1941</td>\n",
       "      <td>3.82238</td>\n",
       "      <td>...</td>\n",
       "      <td>0.000000e+00</td>\n",
       "      <td>0.00</td>\n",
       "      <td>1.0</td>\n",
       "      <td>0.00</td>\n",
       "      <td>3.0</td>\n",
       "      <td>2.0</td>\n",
       "      <td>2.0</td>\n",
       "      <td>1</td>\n",
       "      <td>4266580</td>\n",
       "      <td>1</td>\n",
       "    </tr>\n",
       "    <tr>\n",
       "      <th>264</th>\n",
       "      <td>92.0</td>\n",
       "      <td>102.0</td>\n",
       "      <td>175.0</td>\n",
       "      <td>24.4898</td>\n",
       "      <td>75.0</td>\n",
       "      <td>22.3</td>\n",
       "      <td>44.300</td>\n",
       "      <td>7234.00</td>\n",
       "      <td>1945</td>\n",
       "      <td>-4.07182</td>\n",
       "      <td>...</td>\n",
       "      <td>0.000000e+00</td>\n",
       "      <td>0.17</td>\n",
       "      <td>1.0</td>\n",
       "      <td>0.00</td>\n",
       "      <td>2.0</td>\n",
       "      <td>1.0</td>\n",
       "      <td>1.0</td>\n",
       "      <td>1</td>\n",
       "      <td>4512692</td>\n",
       "      <td>1</td>\n",
       "    </tr>\n",
       "    <tr>\n",
       "      <th>281</th>\n",
       "      <td>78.0</td>\n",
       "      <td>97.0</td>\n",
       "      <td>166.0</td>\n",
       "      <td>23.4069</td>\n",
       "      <td>64.5</td>\n",
       "      <td>30.7</td>\n",
       "      <td>32.300</td>\n",
       "      <td>5460.00</td>\n",
       "      <td>1941</td>\n",
       "      <td>-3.23009</td>\n",
       "      <td>...</td>\n",
       "      <td>0.000000e+00</td>\n",
       "      <td>0.13</td>\n",
       "      <td>1.0</td>\n",
       "      <td>0.25</td>\n",
       "      <td>2.0</td>\n",
       "      <td>2.0</td>\n",
       "      <td>2.0</td>\n",
       "      <td>0</td>\n",
       "      <td>5127413</td>\n",
       "      <td>1</td>\n",
       "    </tr>\n",
       "    <tr>\n",
       "      <th>285</th>\n",
       "      <td>84.0</td>\n",
       "      <td>101.0</td>\n",
       "      <td>150.0</td>\n",
       "      <td>28.0444</td>\n",
       "      <td>63.1</td>\n",
       "      <td>38.2</td>\n",
       "      <td>28.800</td>\n",
       "      <td>5046.00</td>\n",
       "      <td>1952</td>\n",
       "      <td>-1.38845</td>\n",
       "      <td>...</td>\n",
       "      <td>0.000000e+00</td>\n",
       "      <td>0.00</td>\n",
       "      <td>1.0</td>\n",
       "      <td>1.00</td>\n",
       "      <td>2.0</td>\n",
       "      <td>2.0</td>\n",
       "      <td>1.0</td>\n",
       "      <td>0</td>\n",
       "      <td>5217609</td>\n",
       "      <td>1</td>\n",
       "    </tr>\n",
       "  </tbody>\n",
       "</table>\n",
       "<p>153 rows × 76 columns</p>\n",
       "</div>"
      ],
      "text/plain": [
       "     waistcircum  hipcircum  standingheight      bmi  weight  bodyfatpercent  \\\n",
       "153         85.0      100.0           187.0  20.2751    70.9            30.5   \n",
       "154         99.0      103.0           175.0  27.7551    85.0            32.4   \n",
       "155        107.0      108.0           155.0  34.8387    83.7            29.5   \n",
       "156         93.0       94.0           174.0  24.8712    75.3            38.9   \n",
       "157         96.0      105.0           172.0  26.8050    79.3            29.5   \n",
       "..           ...        ...             ...      ...     ...             ...   \n",
       "246         90.0       98.0           171.0  24.5888    71.9            45.8   \n",
       "255         87.0       91.0           154.7  20.8089    49.8            31.3   \n",
       "264         92.0      102.0           175.0  24.4898    75.0            22.3   \n",
       "281         78.0       97.0           166.0  23.4069    64.5            30.7   \n",
       "285         84.0      101.0           150.0  28.0444    63.1            38.2   \n",
       "\n",
       "     wholebodywatermass  basalmetabolicrate   age  townsendeprivation  ...  \\\n",
       "153              41.700             6795.00  1937            -3.67786  ...   \n",
       "154              44.687             7271.58  1940            -4.19052  ...   \n",
       "155              31.400             5648.00  1944             6.65362  ...   \n",
       "156              41.400             6820.00  1941             2.06269  ...   \n",
       "157              44.800             7360.00  1938            -3.90914  ...   \n",
       "..                  ...                 ...   ...                 ...  ...   \n",
       "246              40.100             6590.00  1939             1.07205  ...   \n",
       "255              27.000             4586.00  1941             3.82238  ...   \n",
       "264              44.300             7234.00  1945            -4.07182  ...   \n",
       "281              32.300             5460.00  1941            -3.23009  ...   \n",
       "285              28.800             5046.00  1952            -1.38845  ...   \n",
       "\n",
       "     partmultiplebirth  maternalsmoking  handedness  risktaking  \\\n",
       "153       0.000000e+00             0.00         1.0        0.00   \n",
       "154      -2.997602e-17             0.20         1.0        0.00   \n",
       "155       0.000000e+00             0.00         1.0        0.00   \n",
       "156       0.000000e+00             0.00         2.0        1.00   \n",
       "157       0.000000e+00             0.00         1.0        0.00   \n",
       "..                 ...              ...         ...         ...   \n",
       "246       0.000000e+00             0.00         1.0        1.00   \n",
       "255       0.000000e+00             0.00         1.0        0.00   \n",
       "264       0.000000e+00             0.17         1.0        0.00   \n",
       "281       0.000000e+00             0.13         1.0        0.25   \n",
       "285       0.000000e+00             0.00         1.0        1.00   \n",
       "\n",
       "     freqtiredness2weeks  freqtensenness2weeks  frequnenthusiasm2weeks  sex  \\\n",
       "153                  1.0                   1.0                     1.0    1   \n",
       "154                  1.0                   1.0                     1.0    1   \n",
       "155                  1.0                   1.0                     1.0    0   \n",
       "156                  1.0                   2.0                     1.0    1   \n",
       "157                  1.0                   1.0                     1.0    1   \n",
       "..                   ...                   ...                     ...  ...   \n",
       "246                  2.0                   2.0                     1.0    1   \n",
       "255                  3.0                   2.0                     2.0    1   \n",
       "264                  2.0                   1.0                     1.0    1   \n",
       "281                  2.0                   2.0                     2.0    0   \n",
       "285                  2.0                   2.0                     1.0    0   \n",
       "\n",
       "       f.eid  Y  \n",
       "153  1034942  0  \n",
       "154  1038111  0  \n",
       "155  1081280  0  \n",
       "156  1126376  0  \n",
       "157  1198779  0  \n",
       "..       ... ..  \n",
       "246  3979757  1  \n",
       "255  4266580  1  \n",
       "264  4512692  1  \n",
       "281  5127413  1  \n",
       "285  5217609  1  \n",
       "\n",
       "[153 rows x 76 columns]"
      ]
     },
     "execution_count": 26,
     "metadata": {},
     "output_type": "execute_result"
    }
   ],
   "source": [
    "DvsDD_ADASYN_ev"
   ]
  },
  {
   "cell_type": "code",
   "execution_count": 27,
   "id": "28119320",
   "metadata": {},
   "outputs": [
    {
     "data": {
      "text/plain": [
       "0    1152\n",
       "1    1152\n",
       "Name: Y, dtype: int64"
      ]
     },
     "execution_count": 27,
     "metadata": {},
     "output_type": "execute_result"
    }
   ],
   "source": [
    "ada = ADASYN()\n",
    "X_resampled, y_resampled = ada.fit_resample(DvsDD_ADASYN.iloc[:,0:75], DvsDD_ADASYN['Y'])\n",
    "data_oversampled = pd.concat([pd.DataFrame(X_resampled), pd.DataFrame(y_resampled)], axis=1)\n",
    "data_oversampled.columns = DvsDD_ADASYN.columns\n",
    "data_oversampled['Y'].value_counts()"
   ]
  },
  {
   "cell_type": "code",
   "execution_count": 28,
   "id": "724f6d12",
   "metadata": {},
   "outputs": [],
   "source": [
    "data_oversampled.to_csv(r'DvsDD_ADASYN.csv', index = False, header=True)"
   ]
  },
  {
   "cell_type": "code",
   "execution_count": 29,
   "id": "73fe5938",
   "metadata": {},
   "outputs": [
    {
     "data": {
      "text/plain": [
       "1    137\n",
       "0    135\n",
       "Name: Y, dtype: int64"
      ]
     },
     "execution_count": 29,
     "metadata": {},
     "output_type": "execute_result"
    }
   ],
   "source": [
    "ada = ADASYN()\n",
    "X_resampled, y_resampled = ada.fit_resample(DvsDD_ADASYN_ev.iloc[:,0:75], DvsDD_ADASYN_ev['Y'])\n",
    "data_oversampled = pd.concat([pd.DataFrame(X_resampled), pd.DataFrame(y_resampled)], axis=1)\n",
    "data_oversampled.columns = DvsDD_ADASYN_ev.columns\n",
    "data_oversampled['Y'].value_counts()"
   ]
  },
  {
   "cell_type": "code",
   "execution_count": 30,
   "id": "81ec78a8",
   "metadata": {},
   "outputs": [
    {
     "data": {
      "text/plain": [
       "(272, 76)"
      ]
     },
     "execution_count": 30,
     "metadata": {},
     "output_type": "execute_result"
    }
   ],
   "source": [
    "data_oversampled.shape"
   ]
  },
  {
   "cell_type": "code",
   "execution_count": 31,
   "id": "4e26de8c",
   "metadata": {},
   "outputs": [],
   "source": [
    "data_oversampled = data_oversampled.iloc[:-1 , :]\n",
    "data_oversampled = data_oversampled.iloc[:-1 , :]"
   ]
  },
  {
   "cell_type": "code",
   "execution_count": 32,
   "id": "00b0ee90",
   "metadata": {},
   "outputs": [
    {
     "data": {
      "text/plain": [
       "(270, 76)"
      ]
     },
     "execution_count": 32,
     "metadata": {},
     "output_type": "execute_result"
    }
   ],
   "source": [
    "data_oversampled.shape"
   ]
  },
  {
   "cell_type": "code",
   "execution_count": 33,
   "id": "b0461e22",
   "metadata": {},
   "outputs": [
    {
     "data": {
      "text/plain": [
       "0    135\n",
       "1    135\n",
       "Name: Y, dtype: int64"
      ]
     },
     "execution_count": 33,
     "metadata": {},
     "output_type": "execute_result"
    }
   ],
   "source": [
    "data_oversampled['Y'].value_counts()"
   ]
  },
  {
   "cell_type": "code",
   "execution_count": 34,
   "id": "0a218af5",
   "metadata": {},
   "outputs": [],
   "source": [
    "data_oversampled.to_csv(r'DvsDD_ADASYN_ev.csv', index = False, header=True)"
   ]
  },
  {
   "cell_type": "code",
   "execution_count": 35,
   "id": "df011cbc",
   "metadata": {},
   "outputs": [
    {
     "data": {
      "text/plain": [
       "(5.284403669724771, 7.5)"
      ]
     },
     "execution_count": 35,
     "metadata": {},
     "output_type": "execute_result"
    }
   ],
   "source": [
    "1152/218, 135/18"
   ]
  },
  {
   "cell_type": "code",
   "execution_count": 36,
   "id": "1aed9d11",
   "metadata": {},
   "outputs": [],
   "source": [
    "data_full_dementia_DD_un = pd.DataFrame(pd.concat([data_full_dementia_DD]*6, ignore_index=True))"
   ]
  },
  {
   "cell_type": "code",
   "execution_count": 37,
   "id": "a6d6a164",
   "metadata": {},
   "outputs": [],
   "source": [
    "data_full_dementia_DD_ev_un = pd.DataFrame(pd.concat([data_full_dementia_DD_ev]*8, ignore_index=True))"
   ]
  },
  {
   "cell_type": "code",
   "execution_count": 38,
   "id": "88c4838a",
   "metadata": {},
   "outputs": [
    {
     "data": {
      "text/plain": [
       "((1308, 79), (144, 79))"
      ]
     },
     "execution_count": 38,
     "metadata": {},
     "output_type": "execute_result"
    }
   ],
   "source": [
    "data_full_dementia_DD_un.shape, data_full_dementia_DD_ev_un.shape"
   ]
  },
  {
   "cell_type": "code",
   "execution_count": 39,
   "id": "af1fbf8b",
   "metadata": {},
   "outputs": [],
   "source": [
    "data_full_dementia_D_un = data_full_dementia_D\n",
    "data_full_dementia_D_ev_un = data_full_dementia_D_ev\n",
    "\n",
    "data_full_dementia_DD_un = data_full_dementia_DD_un.sample(n=1152)\n",
    "data_full_dementia_DD_ev_un = data_full_dementia_DD_ev_un.sample(n=135)"
   ]
  },
  {
   "cell_type": "code",
   "execution_count": 40,
   "id": "c52c796c",
   "metadata": {},
   "outputs": [],
   "source": [
    "data_full_dementia_D = data_full_dementia_D.sample(n=218)\n",
    "data_full_dementia_D_ev = data_full_dementia_D_ev.sample(n=18)"
   ]
  },
  {
   "cell_type": "code",
   "execution_count": 41,
   "id": "a9723ac3",
   "metadata": {},
   "outputs": [
    {
     "data": {
      "text/plain": [
       "(218, 18)"
      ]
     },
     "execution_count": 41,
     "metadata": {},
     "output_type": "execute_result"
    }
   ],
   "source": [
    "len(set(list(data_full_dementia_D['f.eid']))), len(set(list(data_full_dementia_D_ev['f.eid'])))"
   ]
  },
  {
   "cell_type": "code",
   "execution_count": 42,
   "id": "fd524a20",
   "metadata": {},
   "outputs": [],
   "source": [
    "DvsDD = pd.concat([data_full_dementia_D, data_full_dementia_DD], axis=0)\n",
    "DvsDD_ev = pd.concat([data_full_dementia_D_ev, data_full_dementia_DD_ev], axis=0)\n",
    "\n",
    "DvsDD_un = pd.concat([data_full_dementia_D_un, data_full_dementia_DD_un], axis=0)\n",
    "DvsDD_ev_un = pd.concat([data_full_dementia_D_ev_un, data_full_dementia_DD_ev_un], axis=0)"
   ]
  },
  {
   "cell_type": "code",
   "execution_count": 43,
   "id": "c92aeb1f",
   "metadata": {},
   "outputs": [
    {
     "data": {
      "text/plain": [
       "((436, 79), (36, 79))"
      ]
     },
     "execution_count": 43,
     "metadata": {},
     "output_type": "execute_result"
    }
   ],
   "source": [
    "DvsDD.shape, DvsDD_ev.shape"
   ]
  },
  {
   "cell_type": "code",
   "execution_count": 44,
   "id": "50eccb2b",
   "metadata": {},
   "outputs": [
    {
     "data": {
      "text/plain": [
       "((2304, 79), (270, 79))"
      ]
     },
     "execution_count": 44,
     "metadata": {},
     "output_type": "execute_result"
    }
   ],
   "source": [
    "DvsDD_un.shape, DvsDD_ev_un.shape"
   ]
  },
  {
   "cell_type": "code",
   "execution_count": 45,
   "id": "1b0091ce",
   "metadata": {},
   "outputs": [],
   "source": [
    "DvsDD.to_csv(r'DvsDD.csv', index = False, header=True)\n",
    "DvsDD_ev.to_csv(r'DvsDD_ev.csv', index = False, header=True)"
   ]
  },
  {
   "cell_type": "code",
   "execution_count": 46,
   "id": "c8f8858f",
   "metadata": {},
   "outputs": [],
   "source": [
    "DvsDD_un.to_csv(r'DvsDD_un.csv', index = False, header=True)\n",
    "DvsDD_ev_un.to_csv(r'DvsDD_ev_un.csv', index = False, header=True)"
   ]
  },
  {
   "cell_type": "code",
   "execution_count": 47,
   "id": "23d1ed4c",
   "metadata": {},
   "outputs": [],
   "source": [
    "del DvsDD['freqdepressed']\n",
    "del DvsDD['seendoctordepress']\n",
    "del DvsDD['seenpsychiatrist']\n",
    "\n",
    "del DvsDD_ev['freqdepressed']\n",
    "del DvsDD_ev['seendoctordepress']\n",
    "del DvsDD_ev['seenpsychiatrist']\n",
    "\n",
    "del DvsDD_un['freqdepressed']\n",
    "del DvsDD_un['seendoctordepress']\n",
    "del DvsDD_un['seenpsychiatrist']\n",
    "\n",
    "del DvsDD_ev_un['freqdepressed']\n",
    "del DvsDD_ev_un['seendoctordepress']\n",
    "del DvsDD_ev_un['seenpsychiatrist']"
   ]
  },
  {
   "cell_type": "code",
   "execution_count": 48,
   "id": "d68fbe11",
   "metadata": {},
   "outputs": [],
   "source": [
    "DvsDD.to_csv(r'DvsDD_ex.csv', index = False, header=True)\n",
    "DvsDD_ev.to_csv(r'DvsDD_ev_ex.csv', index = False, header=True)\n",
    "DvsDD_un.to_csv(r'DvsDD_un_ex.csv', index = False, header=True)\n",
    "DvsDD_ev_un.to_csv(r'DvsDD_ev_un_ex.csv', index = False, header=True)"
   ]
  },
  {
   "cell_type": "code",
   "execution_count": null,
   "id": "2365decb",
   "metadata": {},
   "outputs": [],
   "source": []
  },
  {
   "cell_type": "code",
   "execution_count": 50,
   "id": "8c62ca75",
   "metadata": {},
   "outputs": [
    {
     "data": {
      "text/plain": [
       "(0    218\n",
       " 1    218\n",
       " Name: Y, dtype: int64,\n",
       " 0    18\n",
       " 1    18\n",
       " Name: Y, dtype: int64,\n",
       " 0    1152\n",
       " 1    1152\n",
       " Name: Y, dtype: int64,\n",
       " 0    135\n",
       " 1    135\n",
       " Name: Y, dtype: int64)"
      ]
     },
     "execution_count": 50,
     "metadata": {},
     "output_type": "execute_result"
    }
   ],
   "source": [
    "DvsDD['Y'].value_counts(), DvsDD_ev['Y'].value_counts(), DvsDD_un['Y'].value_counts(), DvsDD_ev_un['Y'].value_counts()"
   ]
  },
  {
   "cell_type": "code",
   "execution_count": null,
   "id": "d852db75",
   "metadata": {},
   "outputs": [],
   "source": []
  },
  {
   "cell_type": "code",
   "execution_count": null,
   "id": "b2cc587e",
   "metadata": {},
   "outputs": [],
   "source": []
  },
  {
   "cell_type": "code",
   "execution_count": null,
   "id": "de7d2219",
   "metadata": {},
   "outputs": [],
   "source": []
  },
  {
   "cell_type": "code",
   "execution_count": null,
   "id": "57d919cb",
   "metadata": {},
   "outputs": [],
   "source": []
  }
 ],
 "metadata": {
  "kernelspec": {
   "display_name": "Python 3 (ipykernel)",
   "language": "python",
   "name": "python3"
  },
  "language_info": {
   "codemirror_mode": {
    "name": "ipython",
    "version": 3
   },
   "file_extension": ".py",
   "mimetype": "text/x-python",
   "name": "python",
   "nbconvert_exporter": "python",
   "pygments_lexer": "ipython3",
   "version": "3.9.7"
  }
 },
 "nbformat": 4,
 "nbformat_minor": 5
}
