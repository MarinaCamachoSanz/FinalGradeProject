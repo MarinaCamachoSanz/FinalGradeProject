{
 "cells": [
  {
   "cell_type": "markdown",
   "metadata": {
    "id": "0QhasoXh61wG"
   },
   "source": [
    "# Data Quality "
   ]
  },
  {
   "cell_type": "code",
   "execution_count": 17,
   "metadata": {
    "id": "AVI0NXOQ61wM"
   },
   "outputs": [],
   "source": [
    "import pandas as pd\n",
    "import numpy as np"
   ]
  },
  {
   "cell_type": "code",
   "execution_count": 18,
   "metadata": {},
   "outputs": [
    {
     "name": "stdout",
     "output_type": "stream",
     "text": [
      "/Users/marinacamachosanz/Desktop/tfg_BCN-AIM/outputbashfiles\n"
     ]
    }
   ],
   "source": [
    "cd /Users/marinacamachosanz/Desktop/tfg_BCN-AIM/outputbashfiles/"
   ]
  },
  {
   "cell_type": "code",
   "execution_count": 19,
   "metadata": {
    "id": "RR5OAfFG61wN"
   },
   "outputs": [],
   "source": [
    "# Change this with the name of the file you want to analize \n",
    "X1_nan = pd.read_csv(\"alld_types_s_c_f.csv\")"
   ]
  },
  {
   "cell_type": "code",
   "execution_count": 20,
   "metadata": {
    "id": "7HYVsokf61wN"
   },
   "outputs": [],
   "source": [
    "X1_nan_variables = X1_nan.isnull().sum()"
   ]
  },
  {
   "cell_type": "code",
   "execution_count": 21,
   "metadata": {
    "id": "JP8fDwQ-61wO"
   },
   "outputs": [],
   "source": [
    "X1_nan_variables = pd.DataFrame(X1_nan_variables)"
   ]
  },
  {
   "cell_type": "code",
   "execution_count": 22,
   "metadata": {
    "id": "oli8xWI761wO"
   },
   "outputs": [],
   "source": [
    "X1_nan_t = X1_nan.T"
   ]
  },
  {
   "cell_type": "code",
   "execution_count": 23,
   "metadata": {
    "id": "jd1yM6nU61wP"
   },
   "outputs": [],
   "source": [
    "X1_nan_pacients = pd.DataFrame(X1_nan_t.isnull().sum())"
   ]
  },
  {
   "cell_type": "code",
   "execution_count": 24,
   "metadata": {
    "id": "oZseHpwr61wQ"
   },
   "outputs": [],
   "source": [
    "var = {0:'Nan'}\n",
    "X1_nan_variables = X1_nan_variables.rename(columns = var)\n",
    "X1_nan_pacients = X1_nan_pacients.rename(columns = var)"
   ]
  },
  {
   "cell_type": "code",
   "execution_count": 25,
   "metadata": {
    "id": "InytJH7F61wS"
   },
   "outputs": [],
   "source": [
    "for value in range(len(X1_nan_variables['Nan'])):\n",
    "    X1_nan_variables['Nan'][value] = (X1_nan_variables['Nan'][value]/X1_nan.shape[0])*100\n",
    "for value in range(len(X1_nan_pacients['Nan'])):\n",
    "    X1_nan_pacients['Nan'][value] = (X1_nan_pacients['Nan'][value]/X1_nan.shape[1])*100"
   ]
  },
  {
   "cell_type": "code",
   "execution_count": 26,
   "metadata": {
    "id": "STUfg2AH61wT"
   },
   "outputs": [],
   "source": [
    "datos = [X1_nan_variables, X1_nan_pacients]"
   ]
  },
  {
   "cell_type": "code",
   "execution_count": 27,
   "metadata": {
    "id": "GteZgAua61wU"
   },
   "outputs": [],
   "source": [
    "names = ['X1_nan_variables', 'X1_nan_pacients']"
   ]
  },
  {
   "cell_type": "code",
   "execution_count": 28,
   "metadata": {
    "id": "JOa0cDIn61wV",
    "outputId": "3c64957a-4766-46f1-aca3-6307b0b3adce"
   },
   "outputs": [
    {
     "name": "stdout",
     "output_type": "stream",
     "text": [
      "Para X1_nan_variables:\n",
      " - Usando un umbral de 50 quedan 92 de 136 (eliminas un 32.35294117647059% )\n",
      " - Usando un umbral de 60 quedan 92 de 136 (eliminas un 32.35294117647059% )\n",
      " - Usando un umbral de 70 quedan 92 de 136 (eliminas un 32.35294117647059% )\n",
      " - Usando un umbral de 80 quedan 96 de 136 (eliminas un 29.411764705882355% )\n",
      " - Usando un umbral de 90 quedan 102 de 136 (eliminas un 25.0% )\n",
      "Para X1_nan_pacients:\n",
      " - Usando un umbral de 50 quedan 1516 de 1524 (eliminas un 0.5249343832020997% )\n",
      " - Usando un umbral de 60 quedan 1518 de 1524 (eliminas un 0.39370078740157477% )\n",
      " - Usando un umbral de 70 quedan 1518 de 1524 (eliminas un 0.39370078740157477% )\n",
      " - Usando un umbral de 80 quedan 1523 de 1524 (eliminas un 0.06561679790026247% )\n",
      " - Usando un umbral de 90 quedan 1523 de 1524 (eliminas un 0.06561679790026247% )\n"
     ]
    }
   ],
   "source": [
    "count_50 = 0\n",
    "count_60 = 0\n",
    "count_70 = 0\n",
    "count_80 = 0\n",
    "count_90 = 0\n",
    "\n",
    "count = -1\n",
    "\n",
    "for x in datos:\n",
    "    count += 1\n",
    "    print(\"Para \"+names[count]+\":\")\n",
    "    for y in range(x.shape[0]):\n",
    "        if x[\"Nan\"][y] >= 50: count_50 += 1\n",
    "        if x[\"Nan\"][y] >= 60: count_60 += 1\n",
    "        if x[\"Nan\"][y] >= 70: count_70 += 1\n",
    "        if x[\"Nan\"][y] >= 80: count_80 += 1\n",
    "        if x[\"Nan\"][y] >= 90: count_90 += 1\n",
    "\n",
    "    print(\" - Usando un umbral de 50 quedan \"+str(x.shape[0]-count_50)+\" de \"+str(x.shape[0])+\" (eliminas un \"+ str(count_50/x.shape[0]*100)+\"% )\")\n",
    "    print(\" - Usando un umbral de 60 quedan \"+str(x.shape[0]-count_60)+\" de \"+str(x.shape[0])+\" (eliminas un \"+ str(count_60/x.shape[0]*100)+\"% )\")\n",
    "    print(\" - Usando un umbral de 70 quedan \"+str(x.shape[0]-count_70)+\" de \"+str(x.shape[0])+\" (eliminas un \"+ str(count_70/x.shape[0]*100)+\"% )\")\n",
    "    print(\" - Usando un umbral de 80 quedan \"+str(x.shape[0]-count_80)+\" de \"+str(x.shape[0])+\" (eliminas un \"+ str(count_80/x.shape[0]*100)+\"% )\")\n",
    "    print(\" - Usando un umbral de 90 quedan \"+str(x.shape[0]-count_90)+\" de \"+str(x.shape[0])+\" (eliminas un \"+ str(count_90/x.shape[0]*100)+\"% )\")\n",
    "\n",
    "    count_50 = 0\n",
    "    count_60 = 0\n",
    "    count_70 = 0\n",
    "    count_80 = 0\n",
    "    count_90 = 0    "
   ]
  },
  {
   "cell_type": "code",
   "execution_count": null,
   "metadata": {},
   "outputs": [],
   "source": []
  },
  {
   "cell_type": "code",
   "execution_count": null,
   "metadata": {},
   "outputs": [],
   "source": []
  },
  {
   "cell_type": "code",
   "execution_count": null,
   "metadata": {},
   "outputs": [],
   "source": []
  },
  {
   "cell_type": "code",
   "execution_count": null,
   "metadata": {},
   "outputs": [],
   "source": []
  },
  {
   "cell_type": "code",
   "execution_count": null,
   "metadata": {},
   "outputs": [],
   "source": []
  },
  {
   "cell_type": "code",
   "execution_count": null,
   "metadata": {},
   "outputs": [],
   "source": []
  },
  {
   "cell_type": "code",
   "execution_count": null,
   "metadata": {},
   "outputs": [],
   "source": []
  },
  {
   "cell_type": "code",
   "execution_count": null,
   "metadata": {},
   "outputs": [],
   "source": []
  }
 ],
 "metadata": {
  "colab": {
   "name": "Marina_Percentatges_Matriu_To_Eliminate-checkpoint.ipynb",
   "provenance": []
  },
  "kernelspec": {
   "display_name": "Python 3 (ipykernel)",
   "language": "python",
   "name": "python3"
  },
  "language_info": {
   "codemirror_mode": {
    "name": "ipython",
    "version": 3
   },
   "file_extension": ".py",
   "mimetype": "text/x-python",
   "name": "python",
   "nbconvert_exporter": "python",
   "pygments_lexer": "ipython3",
   "version": "3.9.7"
  }
 },
 "nbformat": 4,
 "nbformat_minor": 1
}
