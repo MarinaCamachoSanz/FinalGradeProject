{
 "cells": [
  {
   "cell_type": "markdown",
   "id": "c23b5b34",
   "metadata": {},
   "source": [
    "Feature Scaling"
   ]
  },
  {
   "cell_type": "code",
   "execution_count": 1,
   "id": "beef4b39",
   "metadata": {},
   "outputs": [
    {
     "name": "stdout",
     "output_type": "stream",
     "text": [
      "/Users/marinacamacho/Desktop/BCN-AIM/DementiaTFG/input_folder\n"
     ]
    }
   ],
   "source": [
    "cd /Users/marinacamacho/Desktop/BCN-AIM/DementiaTFG/input_folder/"
   ]
  },
  {
   "cell_type": "code",
   "execution_count": 2,
   "id": "421669d0",
   "metadata": {},
   "outputs": [],
   "source": [
    "import pandas as pd\n",
    "import numpy as np\n",
    "import scipy\n",
    "from scipy import stats\n",
    "from sklearn.preprocessing import StandardScaler"
   ]
  },
  {
   "cell_type": "code",
   "execution_count": 3,
   "id": "be583d34",
   "metadata": {},
   "outputs": [],
   "source": [
    "age_internal = pd.read_csv(\"input_df_ct_80.csv\")\n",
    "age_external = pd.read_csv(\"exval_df_ct_80.csv\")\n",
    "noage_internal = pd.read_csv(\"input_df_ct_80_age_no.csv\")\n",
    "noage_external = pd.read_csv(\"exval_df_ct_80_age_no.csv\")\n",
    "oage_internal = pd.read_csv(\"input_df_ct_80_age.csv\")\n",
    "oage_external = pd.read_csv(\"exval_df_ct_80_age.csv\")\n",
    "\n",
    "age_30_internal = pd.read_csv(\"input_df_ct_80_30_age.csv\")\n",
    "age_30_external = pd.read_csv(\"exval_df_ct_80_30_age.csv\")\n",
    "noage_30_internal = pd.read_csv(\"input_df_ct_80_30.csv\")\n",
    "noage_30_external = pd.read_csv(\"exval_df_ct_80_30.csv\")"
   ]
  },
  {
   "cell_type": "code",
   "execution_count": 4,
   "id": "370c5e10",
   "metadata": {},
   "outputs": [],
   "source": [
    "#zscore"
   ]
  },
  {
   "cell_type": "code",
   "execution_count": 5,
   "id": "85b73091",
   "metadata": {},
   "outputs": [],
   "source": [
    "age_internal_zs = pd.DataFrame()\n",
    "age_internal_zs = stats.zscore(age_internal.iloc[:,:30])\n",
    "age_internal_zsFrame = [age_internal_zs.apply(np.float64),age_internal.iloc[:,30:]]\n",
    "age_internal_zs = pd.concat(age_internal_zsFrame, axis=1)\n",
    "\n",
    "age_external_zs = pd.DataFrame()\n",
    "age_external_zs = stats.zscore(age_external.iloc[:,:30])\n",
    "age_external_zsFrame = [age_external_zs.apply(np.float64),age_external.iloc[:,30:]]\n",
    "age_external_zs = pd.concat(age_external_zsFrame, axis=1)\n",
    "\n",
    "noage_internal_zs = pd.DataFrame()\n",
    "noage_internal_zs = stats.zscore(noage_internal.iloc[:,:30])\n",
    "noage_internal_zsFrame = [noage_internal_zs.apply(np.float64),noage_internal.iloc[:,30:]]\n",
    "noage_internal_zs = pd.concat(noage_internal_zsFrame, axis=1)\n",
    "\n",
    "noage_external_zs = pd.DataFrame()\n",
    "noage_external_zs = stats.zscore(noage_external.iloc[:,:30])\n",
    "noage_external_zsFrame = [noage_external_zs.apply(np.float64),noage_external.iloc[:,30:]]\n",
    "noage_external_zs = pd.concat(noage_external_zsFrame, axis=1)\n",
    "\n",
    "oage_internal_zs = pd.DataFrame()\n",
    "oage_internal_zs = stats.zscore(oage_internal.iloc[:,:30])\n",
    "oage_internal_zsFrame = [oage_internal_zs.apply(np.float64),oage_internal.iloc[:,30:]]\n",
    "oage_internal_zs = pd.concat(oage_internal_zsFrame, axis=1)\n",
    "\n",
    "oage_external_zs = pd.DataFrame()\n",
    "oage_external_zs = stats.zscore(oage_external.iloc[:,:30])\n",
    "oage_external_zsFrame = [oage_external_zs.apply(np.float64),oage_external.iloc[:,30:]]\n",
    "oage_external_zs = pd.concat(oage_external_zsFrame, axis=1)\n",
    "\n",
    "\n",
    "age_30_internal_zs = pd.DataFrame()\n",
    "age_30_internal_zs = stats.zscore(age_30_internal.iloc[:,:30])\n",
    "age_30_internal_zsFrame = [age_30_internal_zs.apply(np.float64),age_30_internal.iloc[:,30:]]\n",
    "age_30_internal_zs = pd.concat(age_30_internal_zsFrame, axis=1)\n",
    "\n",
    "age_30_external_zs = pd.DataFrame()\n",
    "age_30_external_zs = stats.zscore(age_30_external.iloc[:,:30])\n",
    "age_30_external_zsFrame = [age_30_external_zs.apply(np.float64),age_30_external.iloc[:,30:]]\n",
    "age_30_external_zs = pd.concat(age_30_external_zsFrame, axis=1)\n",
    "\n",
    "noage_30_internal_zs = pd.DataFrame()\n",
    "noage_30_internal_zs = stats.zscore(noage_30_internal.iloc[:,:30])\n",
    "noage_30_internal_zsFrame = [noage_30_internal_zs.apply(np.float64),noage_30_internal.iloc[:,30:]]\n",
    "noage_30_internal_zs = pd.concat(noage_30_internal_zsFrame, axis=1)\n",
    "\n",
    "noage_30_external_zs = pd.DataFrame()\n",
    "noage_30_external_zs = stats.zscore(noage_30_external.iloc[:,:30])\n",
    "noage_30_external_zsFrame = [noage_30_external_zs.apply(np.float64),noage_30_external.iloc[:,30:]]\n",
    "noage_30_external_zs = pd.concat(noage_30_external_zsFrame, axis=1)"
   ]
  },
  {
   "cell_type": "code",
   "execution_count": 6,
   "id": "72b9ec45",
   "metadata": {},
   "outputs": [],
   "source": [
    "age_internal_zs.to_csv(r'age_internal_zs.csv', index = False, header=True)\n",
    "age_external_zs.to_csv(r'age_external_zs.csv', index = False, header=True)\n",
    "noage_internal_zs.to_csv(r'noage_internal_zs.csv', index = False, header=True)\n",
    "noage_external_zs.to_csv(r'noage_external_zs.csv', index = False, header=True)\n",
    "oage_internal_zs.to_csv(r'oage_internal_zs.csv', index = False, header=True)\n",
    "oage_external_zs.to_csv(r'oage_external_zs.csv', index = False, header=True)\n",
    "\n",
    "\n",
    "age_30_internal_zs.to_csv(r'age_30_internal_zs.csv', index = False, header=True)\n",
    "age_30_external_zs.to_csv(r'age_30_external_zs.csv', index = False, header=True)\n",
    "noage_30_internal_zs.to_csv(r'noage_30_internal_zs.csv', index = False, header=True)\n",
    "noage_30_external_zs.to_csv(r'noage_30_external_zs.csv', index = False, header=True)"
   ]
  },
  {
   "cell_type": "code",
   "execution_count": 7,
   "id": "32c151dc",
   "metadata": {},
   "outputs": [],
   "source": [
    "#min-max normalitzation"
   ]
  },
  {
   "cell_type": "code",
   "execution_count": 8,
   "id": "14b1a750",
   "metadata": {},
   "outputs": [],
   "source": [
    "age_internal_mm = pd.DataFrame()\n",
    "age_internal_mm = (age_internal.iloc[:,:30]-age_internal.iloc[:,:30].min())/(age_internal.iloc[:,:30].max()-age_internal.iloc[:,:30].min())\n",
    "age_internal_mmFrame = [age_internal_mm.apply(np.float64),age_internal.iloc[:,30:]]\n",
    "age_internal_mm = pd.concat(age_internal_mmFrame, axis=1)\n",
    "\n",
    "age_external_mm = pd.DataFrame()\n",
    "age_external_mm = (age_external.iloc[:,:30]-age_external.iloc[:,:30].min())/(age_external.iloc[:,:30].max()-age_external.iloc[:,:30].min())\n",
    "age_external_mmFrame = [age_external_mm.apply(np.float64),age_external.iloc[:,30:]]\n",
    "age_external_mm = pd.concat(age_external_mmFrame, axis=1)\n",
    "\n",
    "noage_internal_mm = pd.DataFrame()\n",
    "noage_internal_mm = (noage_internal.iloc[:,:30]-noage_internal.iloc[:,:30].min())/(noage_internal.iloc[:,:30].max()-noage_internal.iloc[:,:30].min())\n",
    "noage_internal_mmFrame = [noage_internal_mm.apply(np.float64),noage_internal.iloc[:,30:]]\n",
    "noage_internal_mm = pd.concat(noage_internal_mmFrame, axis=1)\n",
    "\n",
    "noage_external_mm = pd.DataFrame()\n",
    "noage_external_mm = (noage_external.iloc[:,:30]-noage_external.iloc[:,:30].min())/(noage_external.iloc[:,:30].max()-noage_external.iloc[:,:30].min())\n",
    "noage_external_mmFrame = [noage_external_mm.apply(np.float64),noage_external.iloc[:,30:]]\n",
    "noage_external_mm = pd.concat(noage_external_mmFrame, axis=1)\n",
    "\n",
    "oage_internal_mm = pd.DataFrame()\n",
    "oage_internal_mm = (oage_internal.iloc[:,:30]-oage_internal.iloc[:,:30].min())/(oage_internal.iloc[:,:30].max()-oage_internal.iloc[:,:30].min())\n",
    "oage_internal_mmFrame = [oage_internal_mm.apply(np.float64),oage_internal.iloc[:,30:]]\n",
    "oage_internal_mm = pd.concat(oage_internal_mmFrame, axis=1)\n",
    "\n",
    "oage_external_mm = pd.DataFrame()\n",
    "oage_external_mm = (oage_external.iloc[:,:30]-oage_external.iloc[:,:30].min())/(oage_external.iloc[:,:30].max()-oage_external.iloc[:,:30].min())\n",
    "oage_external_mmFrame = [oage_external_mm.apply(np.float64),oage_external.iloc[:,30:]]\n",
    "oage_external_mm = pd.concat(oage_external_mmFrame, axis=1)\n",
    "\n",
    "\n",
    "age_30_internal_mm = pd.DataFrame()\n",
    "age_30_internal_mm = (age_30_internal.iloc[:,:30]-age_30_internal.iloc[:,:30].min())/(age_30_internal.iloc[:,:30].max()-age_30_internal.iloc[:,:30].min())\n",
    "age_30_internal_mmFrame = [age_30_internal_mm.apply(np.float64),age_30_internal.iloc[:,30:]]\n",
    "age_30_internal_mm = pd.concat(age_30_internal_mmFrame, axis=1)\n",
    "\n",
    "age_30_external_mm = pd.DataFrame()\n",
    "age_30_external_mm = (age_30_external.iloc[:,:30]-age_30_external.iloc[:,:30].min())/(age_30_external.iloc[:,:30].max()-age_30_external.iloc[:,:30].min())\n",
    "age_30_external_mmFrame = [age_30_external_mm.apply(np.float64),age_30_external.iloc[:,30:]]\n",
    "age_30_external_mm = pd.concat(age_30_external_mmFrame, axis=1)\n",
    "\n",
    "noage_30_internal_mm = pd.DataFrame()\n",
    "noage_30_internal_mm = (noage_30_internal.iloc[:,:30]-noage_30_internal.iloc[:,:30].min())/(noage_30_internal.iloc[:,:30].max()-noage_30_internal.iloc[:,:30].min())\n",
    "noage_30_internal_mmFrame = [noage_30_internal_mm.apply(np.float64),noage_30_internal.iloc[:,30:]]\n",
    "noage_30_internal_mm = pd.concat(noage_30_internal_mmFrame, axis=1)\n",
    "\n",
    "noage_30_external_mm = pd.DataFrame()\n",
    "noage_30_external_mm = (noage_30_external.iloc[:,:30]-noage_30_external.iloc[:,:30].min())/(noage_30_external.iloc[:,:30].max()-noage_30_external.iloc[:,:30].min())\n",
    "noage_30_external_mmFrame = [noage_30_external_mm.apply(np.float64),noage_30_external.iloc[:,30:]]\n",
    "noage_30_external_mm = pd.concat(noage_30_external_mmFrame, axis=1)"
   ]
  },
  {
   "cell_type": "code",
   "execution_count": 9,
   "id": "8152a2de",
   "metadata": {},
   "outputs": [],
   "source": [
    "age_internal_mm.to_csv(r'age_internal_mm.csv', index = False, header=True)\n",
    "age_external_mm.to_csv(r'age_external_mm.csv', index = False, header=True)\n",
    "noage_internal_mm.to_csv(r'noage_internal_mm.csv', index = False, header=True)\n",
    "noage_external_mm.to_csv(r'noage_external_mm.csv', index = False, header=True)\n",
    "oage_internal_mm.to_csv(r'oage_internal_mm.csv', index = False, header=True)\n",
    "oage_external_mm.to_csv(r'oage_external_mm.csv', index = False, header=True)\n",
    "\n",
    "\n",
    "age_30_internal_mm.to_csv(r'age_30_internal_mm.csv', index = False, header=True)\n",
    "age_30_external_mm.to_csv(r'age_30_external_mm.csv', index = False, header=True)\n",
    "noage_30_internal_mm.to_csv(r'noage_30_internal_mm.csv', index = False, header=True)\n",
    "noage_30_external_mm.to_csv(r'noage_30_external_mm.csv', index = False, header=True)"
   ]
  },
  {
   "cell_type": "code",
   "execution_count": null,
   "id": "d3666cde",
   "metadata": {},
   "outputs": [],
   "source": []
  },
  {
   "cell_type": "code",
   "execution_count": null,
   "id": "08f85eee",
   "metadata": {},
   "outputs": [],
   "source": []
  },
  {
   "cell_type": "code",
   "execution_count": null,
   "id": "5177d1ec",
   "metadata": {},
   "outputs": [],
   "source": []
  },
  {
   "cell_type": "code",
   "execution_count": null,
   "id": "ea893917",
   "metadata": {},
   "outputs": [],
   "source": []
  }
 ],
 "metadata": {
  "kernelspec": {
   "display_name": "Python 3 (ipykernel)",
   "language": "python",
   "name": "python3"
  },
  "language_info": {
   "codemirror_mode": {
    "name": "ipython",
    "version": 3
   },
   "file_extension": ".py",
   "mimetype": "text/x-python",
   "name": "python",
   "nbconvert_exporter": "python",
   "pygments_lexer": "ipython3",
   "version": "3.9.7"
  }
 },
 "nbformat": 4,
 "nbformat_minor": 5
}
